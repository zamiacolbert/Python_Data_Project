{
  "nbformat": 4,
  "nbformat_minor": 0,
  "metadata": {
    "colab": {
      "provenance": []
    },
    "kernelspec": {
      "name": "python3",
      "display_name": "Python 3"
    },
    "language_info": {
      "name": "python"
    }
  },
  "cells": [
    {
      "cell_type": "markdown",
      "source": [
        "###Python"
      ],
      "metadata": {
        "id": "ZOvvy6J__ANq"
      }
    },
    {
      "cell_type": "code",
      "source": [
        "\"This is coding cell\""
      ],
      "metadata": {
        "colab": {
          "base_uri": "https://localhost:8080/",
          "height": 35
        },
        "id": "WD-ikW62tuIK",
        "outputId": "e87a351e-a651-402c-943c-532775be02ae"
      },
      "execution_count": null,
      "outputs": [
        {
          "output_type": "execute_result",
          "data": {
            "text/plain": [
              "'This is coding cell'"
            ],
            "application/vnd.google.colaboratory.intrinsic+json": {
              "type": "string"
            }
          },
          "metadata": {},
          "execution_count": 1
        }
      ]
    },
    {
      "cell_type": "code",
      "source": [
        "2 + 2"
      ],
      "metadata": {
        "colab": {
          "base_uri": "https://localhost:8080/"
        },
        "id": "LoDkJWh_uTCS",
        "outputId": "e4c49cfc-1c64-4ac2-c9ce-83119900ba02"
      },
      "execution_count": null,
      "outputs": [
        {
          "output_type": "execute_result",
          "data": {
            "text/plain": [
              "4"
            ]
          },
          "metadata": {},
          "execution_count": 2
        }
      ]
    },
    {
      "cell_type": "code",
      "source": [
        "2 + 5"
      ],
      "metadata": {
        "colab": {
          "base_uri": "https://localhost:8080/"
        },
        "id": "5AnNuyYZuWKy",
        "outputId": "b973eb5a-e7c6-4914-dc95-f39cf9818942"
      },
      "execution_count": null,
      "outputs": [
        {
          "output_type": "execute_result",
          "data": {
            "text/plain": [
              "7"
            ]
          },
          "metadata": {},
          "execution_count": 3
        }
      ]
    },
    {
      "cell_type": "code",
      "source": [
        "2 + 2\n",
        "3 * 3"
      ],
      "metadata": {
        "colab": {
          "base_uri": "https://localhost:8080/"
        },
        "id": "tWGbVbvnuYDG",
        "outputId": "ad0b85f6-b9ce-41fc-813c-c65f76b88d8e"
      },
      "execution_count": null,
      "outputs": [
        {
          "output_type": "execute_result",
          "data": {
            "text/plain": [
              "9"
            ]
          },
          "metadata": {},
          "execution_count": 4
        }
      ]
    },
    {
      "cell_type": "code",
      "source": [
        "print(2+2)\n",
        "print(3*3)"
      ],
      "metadata": {
        "colab": {
          "base_uri": "https://localhost:8080/"
        },
        "id": "KrirTH2Huyh_",
        "outputId": "d7d0afc8-f03e-41b6-9322-0e7431d634d0"
      },
      "execution_count": null,
      "outputs": [
        {
          "output_type": "stream",
          "name": "stdout",
          "text": [
            "4\n",
            "9\n"
          ]
        }
      ]
    },
    {
      "cell_type": "code",
      "source": [
        "print(2+5)\n",
        "3*4"
      ],
      "metadata": {
        "colab": {
          "base_uri": "https://localhost:8080/"
        },
        "id": "wFU0FP3Iu3wU",
        "outputId": "0c108655-736e-4450-fad8-cb3603904058"
      },
      "execution_count": null,
      "outputs": [
        {
          "output_type": "stream",
          "name": "stdout",
          "text": [
            "7\n"
          ]
        },
        {
          "output_type": "execute_result",
          "data": {
            "text/plain": [
              "12"
            ]
          },
          "metadata": {},
          "execution_count": 6
        }
      ]
    },
    {
      "cell_type": "code",
      "source": [
        "#This is a comment"
      ],
      "metadata": {
        "id": "22mcsYz5u7aE"
      },
      "execution_count": null,
      "outputs": []
    },
    {
      "cell_type": "code",
      "source": [
        "#This is another comment.\n",
        "2+2 #This is a comment next to an equation"
      ],
      "metadata": {
        "colab": {
          "base_uri": "https://localhost:8080/"
        },
        "id": "lv-fxHSHvB0u",
        "outputId": "5ea8d44b-9627-4e77-9fd0-5533ffe29f01"
      },
      "execution_count": null,
      "outputs": [
        {
          "output_type": "execute_result",
          "data": {
            "text/plain": [
              "4"
            ]
          },
          "metadata": {},
          "execution_count": 8
        }
      ]
    },
    {
      "cell_type": "code",
      "source": [],
      "metadata": {
        "id": "8X-hLZJUvMqG"
      },
      "execution_count": null,
      "outputs": []
    },
    {
      "cell_type": "markdown",
      "source": [
        "This Normal.\n",
        "\n",
        "**This is Bold**\n",
        "\n",
        "*It*\n",
        "\n",
        "#Heading\n",
        "\n",
        "##sub\n",
        "\n",
        "1. l\n",
        "2. k\n",
        "3. o\n",
        "\n",
        "- jump\n",
        "- skip\n",
        "- flip\n",
        "\n",
        "\n",
        "*   List item\n",
        "*   List item\n",
        "\n",
        "\n",
        "\n",
        "> Add blockquote\n",
        "\n",
        "> Add blockquote\n",
        "\n",
        "[link text](https://)\n",
        "\n",
        "\n",
        "\n",
        "\n",
        "\n",
        "\n"
      ],
      "metadata": {
        "id": "iJP0deHEvcXu"
      }
    },
    {
      "cell_type": "code",
      "source": [
        "#Here I start answering pratice problems from course"
      ],
      "metadata": {
        "id": "wlvewxxd63th"
      },
      "execution_count": null,
      "outputs": []
    },
    {
      "cell_type": "code",
      "source": [
        "job_count = 42\n",
        "print(job_count)"
      ],
      "metadata": {
        "colab": {
          "base_uri": "https://localhost:8080/"
        },
        "id": "SVtHSHat6-hb",
        "outputId": "dfe9bd21-9c51-4aeb-c437-ef2f311d08c0"
      },
      "execution_count": null,
      "outputs": [
        {
          "output_type": "stream",
          "name": "stdout",
          "text": [
            "42\n"
          ]
        }
      ]
    },
    {
      "cell_type": "code",
      "source": [
        "job_title = 'Data Engineer'\n",
        "company_name = 'Data Wiz'\n",
        "WFH = True\n",
        "print (job_title, company_name, WFH)"
      ],
      "metadata": {
        "colab": {
          "base_uri": "https://localhost:8080/"
        },
        "id": "RJOvPHaX7jgK",
        "outputId": "10da59a8-5eb3-4521-b9d3-3121bc192329"
      },
      "execution_count": null,
      "outputs": [
        {
          "output_type": "stream",
          "name": "stdout",
          "text": [
            "Data Engineer Data Wiz True\n"
          ]
        }
      ]
    },
    {
      "cell_type": "code",
      "source": [
        "base_salary = 120000\n",
        "bonus = 20000\n",
        "total_salary = base_salary * (1 + bonus)\n",
        "print(total_salary)"
      ],
      "metadata": {
        "colab": {
          "base_uri": "https://localhost:8080/"
        },
        "id": "lIy-CihK8f0x",
        "outputId": "4f1438ea-8fd1-4572-d5a6-caf634ff44bf"
      },
      "execution_count": null,
      "outputs": [
        {
          "output_type": "stream",
          "name": "stdout",
          "text": [
            "2400120000\n"
          ]
        }
      ]
    },
    {
      "cell_type": "code",
      "source": [
        "base_salary = 120000\n",
        "bonus = 20000\n",
        "total_compensation = base_salary + bonus\n",
        "print(total_compensation)"
      ],
      "metadata": {
        "colab": {
          "base_uri": "https://localhost:8080/"
        },
        "id": "9h-Ijyhc9VsT",
        "outputId": "17a0f777-13c9-4aa9-c5d7-12b331d95637"
      },
      "execution_count": null,
      "outputs": [
        {
          "output_type": "stream",
          "name": "stdout",
          "text": [
            "140000\n"
          ]
        }
      ]
    },
    {
      "cell_type": "code",
      "source": [
        "annual_salary = 72000\n",
        "monthly_salary = annual_salary / 12\n",
        "print(monthly_salary)"
      ],
      "metadata": {
        "colab": {
          "base_uri": "https://localhost:8080/"
        },
        "id": "ixKvXuLz9d-j",
        "outputId": "b1259d89-a752-4ada-95f4-f9e329fd71cc"
      },
      "execution_count": null,
      "outputs": [
        {
          "output_type": "stream",
          "name": "stdout",
          "text": [
            "6000.0\n"
          ]
        }
      ]
    },
    {
      "cell_type": "code",
      "source": [
        "#Create variables to store the job title, company name, and salary for a Data Scientist position at AI Solutions for $110K.\n",
        "#Then, calculate the total compensation by adding a 10% bonus to the salary and print the total compensation, along with the job and company name.\n",
        "job_title = 'Data Scientist'\n",
        "company_name = 'AI Solutions'\n",
        "annual_salary = 110000\n",
        "bonus = annual_salary * .10\n",
        "total_compensation = annual_salary + bonus\n",
        "print(job_title, company_name, total_compensation)"
      ],
      "metadata": {
        "colab": {
          "base_uri": "https://localhost:8080/"
        },
        "id": "-HDsQCCQ9_D6",
        "outputId": "794e2906-a512-4bc6-a8f4-cbc1c816ad85"
      },
      "execution_count": null,
      "outputs": [
        {
          "output_type": "stream",
          "name": "stdout",
          "text": [
            "Data Scientist AI Solutions 121000.0\n"
          ]
        }
      ]
    },
    {
      "cell_type": "code",
      "source": [
        "#string\n",
        "job_title = 'Data Scientist'\n",
        "print(type (job_title))"
      ],
      "metadata": {
        "colab": {
          "base_uri": "https://localhost:8080/"
        },
        "id": "aja3V6ee_KbI",
        "outputId": "05c93bce-3071-431f-8524-fa1af36f1466"
      },
      "execution_count": null,
      "outputs": [
        {
          "output_type": "stream",
          "name": "stdout",
          "text": [
            "<class 'str'>\n"
          ]
        }
      ]
    },
    {
      "cell_type": "code",
      "source": [
        "annual_salary = 85000.50\n",
        "print(type(annual_salary))"
      ],
      "metadata": {
        "colab": {
          "base_uri": "https://localhost:8080/"
        },
        "id": "XvrlfiCBWqrV",
        "outputId": "19485b28-e1e6-42c9-a698-9aa9ed28d29c"
      },
      "execution_count": null,
      "outputs": [
        {
          "output_type": "stream",
          "name": "stdout",
          "text": [
            "<class 'float'>\n"
          ]
        }
      ]
    },
    {
      "cell_type": "code",
      "source": [
        "salary_rate = 120000.75\n",
        "salary_rate = int(salary_rate)\n",
        "print(type(salary_rate))"
      ],
      "metadata": {
        "colab": {
          "base_uri": "https://localhost:8080/"
        },
        "id": "SpNTGCqzZutD",
        "outputId": "f86843d3-625d-4ab2-e33f-39edbc42cf57"
      },
      "execution_count": null,
      "outputs": [
        {
          "output_type": "stream",
          "name": "stdout",
          "text": [
            "<class 'int'>\n"
          ]
        }
      ]
    },
    {
      "cell_type": "code",
      "source": [
        "company_name = 'DataWiz Inc.'\n",
        "print(isinstance(company_name,str))"
      ],
      "metadata": {
        "colab": {
          "base_uri": "https://localhost:8080/"
        },
        "id": "FBjKFv8xaPm1",
        "outputId": "fb196d9d-e5d7-48b0-c81a-f44dd6de7727"
      },
      "execution_count": null,
      "outputs": [
        {
          "output_type": "stream",
          "name": "stdout",
          "text": [
            "True\n"
          ]
        }
      ]
    },
    {
      "cell_type": "code",
      "source": [
        "job_title = 'data scientist'\n",
        "job_title_upper = job_title.upper()\n",
        "print(job_title_upper)"
      ],
      "metadata": {
        "id": "vgSefKOwaySx"
      },
      "execution_count": null,
      "outputs": []
    },
    {
      "cell_type": "code",
      "source": [
        "job_title = 'Data Analyst'\n",
        "job_title_replace = job_title.replace('Analyst', 'Scientist')\n",
        "print(job_title_replace)"
      ],
      "metadata": {
        "colab": {
          "base_uri": "https://localhost:8080/"
        },
        "id": "MjvmXtkoeqRI",
        "outputId": "22bd3431-a9d3-4880-cbf7-38695d525a37"
      },
      "execution_count": null,
      "outputs": [
        {
          "output_type": "stream",
          "name": "stdout",
          "text": [
            "Data Scientist\n"
          ]
        }
      ]
    },
    {
      "cell_type": "code",
      "source": [
        "seniority_level = 'Senior'\n",
        "job_title = 'Data Analyst'\n",
        "full_title = seniority_level + ' ' + job_title\n",
        "print(full_title)"
      ],
      "metadata": {
        "colab": {
          "base_uri": "https://localhost:8080/"
        },
        "id": "BqKbRWPSfH0e",
        "outputId": "d85c04af-13e7-4a2f-dc1b-e8154c35ed14"
      },
      "execution_count": null,
      "outputs": [
        {
          "output_type": "stream",
          "name": "stdout",
          "text": [
            "Senior Data Analyst\n"
          ]
        }
      ]
    },
    {
      "cell_type": "code",
      "source": [
        "job_title = 'Data Scientist'\n",
        "print(len(job_title))"
      ],
      "metadata": {
        "colab": {
          "base_uri": "https://localhost:8080/"
        },
        "id": "P-FeujT3f8i8",
        "outputId": "536872db-8484-47dc-94b4-2be3ccc041f6"
      },
      "execution_count": null,
      "outputs": [
        {
          "output_type": "stream",
          "name": "stdout",
          "text": [
            "14\n"
          ]
        }
      ]
    },
    {
      "cell_type": "code",
      "source": [
        "job_title = 'DATA ENGINEER'\n",
        "lower_title = job_title.lower()\n",
        "print(lower_title)"
      ],
      "metadata": {
        "colab": {
          "base_uri": "https://localhost:8080/"
        },
        "id": "3VcHD7Zjgnob",
        "outputId": "11729e2e-0439-4595-b84f-c3a0d4d1592c"
      },
      "execution_count": null,
      "outputs": [
        {
          "output_type": "stream",
          "name": "stdout",
          "text": [
            "data engineer\n"
          ]
        }
      ]
    },
    {
      "cell_type": "code",
      "source": [
        "job_title = 'DATA ENGINEER'\n",
        "print(job_title.lower())"
      ],
      "metadata": {
        "colab": {
          "base_uri": "https://localhost:8080/"
        },
        "id": "_Wnz7fcEi99X",
        "outputId": "c3f452b2-e09d-4c30-f502-7f9943b52173"
      },
      "execution_count": null,
      "outputs": [
        {
          "output_type": "stream",
          "name": "stdout",
          "text": [
            "data engineer\n"
          ]
        }
      ]
    },
    {
      "cell_type": "code",
      "source": [
        "# prompt: Combine 'Data' and 'Analyst'\n",
        "\n",
        "job_title = 'Data'\n",
        "job_description = 'Analyst'\n",
        "combined_title = job_title + ' ' + job_description\n",
        "combined_title\n"
      ],
      "metadata": {
        "id": "BQKrOUkwi_fk"
      },
      "execution_count": null,
      "outputs": []
    },
    {
      "cell_type": "code",
      "source": [
        "job_title = 'Data Scientist'\n",
        "print('Job Title: '+ job_title)"
      ],
      "metadata": {
        "colab": {
          "base_uri": "https://localhost:8080/"
        },
        "id": "syfihEQ_ucKf",
        "outputId": "3599bbe9-d0ce-4709-e694-4a7928b1625f"
      },
      "execution_count": null,
      "outputs": [
        {
          "output_type": "stream",
          "name": "stdout",
          "text": [
            "Job Title: Data Scientist\n"
          ]
        }
      ]
    },
    {
      "cell_type": "code",
      "source": [
        "#f'Role: {role}, Skill required: {skill}\n",
        "position = 'Data Scientist'\n",
        "company = 'DataWiz Inc.'\n",
        "print(f'Position: {position}, Company: {company}')\n",
        "#f'Position: {position}, Company: {company}'"
      ],
      "metadata": {
        "colab": {
          "base_uri": "https://localhost:8080/"
        },
        "id": "UWBl-PVOweu8",
        "outputId": "a4e62ab9-4b78-4bef-b772-796eb5d6a96f"
      },
      "execution_count": null,
      "outputs": [
        {
          "output_type": "stream",
          "name": "stdout",
          "text": [
            "Position: Data Scientist, Company: DataWiz Inc.\n"
          ]
        }
      ]
    },
    {
      "cell_type": "code",
      "source": [
        "# prompt: format this as a string position = 'Data Scientist'\n",
        "# company = 'DataWiz Inc.'\n",
        "\n",
        "position = 'Data Scientist'\n",
        "company = 'DataWiz Inc.'\n",
        "print(f'Position: {position}, Company: {company}')\n",
        "#using generative ai example"
      ],
      "metadata": {
        "colab": {
          "base_uri": "https://localhost:8080/"
        },
        "id": "rT39YO4sydQ4",
        "outputId": "45eab0a7-cb6b-4dec-e484-c793836297cd"
      },
      "execution_count": null,
      "outputs": [
        {
          "output_type": "stream",
          "name": "stdout",
          "text": [
            "Position: Data Scientist, Company: DataWiz Inc.\n"
          ]
        }
      ]
    },
    {
      "cell_type": "code",
      "source": [
        "#'Role: {}, Skill required: {}'.format(role, skill)\n",
        "role = 'Data Analyst'\n",
        "skill = 'Python'\n",
        "print('Role: {}, Skill required: {}'.format(role, skill))"
      ],
      "metadata": {
        "colab": {
          "base_uri": "https://localhost:8080/"
        },
        "id": "mFIX_Vxjy-Vm",
        "outputId": "62d48a20-75f4-4d9d-c4d2-f929eb32d16a"
      },
      "execution_count": null,
      "outputs": [
        {
          "output_type": "stream",
          "name": "stdout",
          "text": [
            "Role: Data Analyst, Skill required: Python\n"
          ]
        }
      ]
    },
    {
      "cell_type": "code",
      "source": [
        "#'Role: %s, Skill required: %s' % (role, skill)\n",
        "role = 'Data Engineer'\n",
        "skill = 'SQL'\n",
        "print('Role: %s, Skill required: %s' % (role, skill))"
      ],
      "metadata": {
        "colab": {
          "base_uri": "https://localhost:8080/"
        },
        "id": "C4Sp3swLzy7E",
        "outputId": "241e5d04-7cc4-4621-b1d4-ba178e97b0c2"
      },
      "execution_count": null,
      "outputs": [
        {
          "output_type": "stream",
          "name": "stdout",
          "text": [
            "Role: Data Engineer, Skill required: SQL\n"
          ]
        }
      ]
    },
    {
      "cell_type": "code",
      "source": [
        "monthly_salary = 8000\n",
        "annual_salary = monthly_salary * 12\n",
        "print(annual_salary)"
      ],
      "metadata": {
        "colab": {
          "base_uri": "https://localhost:8080/"
        },
        "id": "rKFETa690QDe",
        "outputId": "e8552045-f0ec-42e7-dbe9-bb4fff7996c3"
      },
      "execution_count": null,
      "outputs": [
        {
          "output_type": "stream",
          "name": "stdout",
          "text": [
            "96000\n"
          ]
        }
      ]
    },
    {
      "cell_type": "code",
      "source": [
        "avg_salary_analyst = 70000\n",
        "avg_salary_scientist = 85000\n",
        "if avg_salary_analyst > avg_salary_scientist:\n",
        "  print('Analyst')\n",
        "else:\n",
        "  print('Scientist')"
      ],
      "metadata": {
        "colab": {
          "base_uri": "https://localhost:8080/"
        },
        "id": "iLEe_5sM33pG",
        "outputId": "fc1c21f8-52db-4fb2-ac2f-96da2402e3f1"
      },
      "execution_count": null,
      "outputs": [
        {
          "output_type": "stream",
          "name": "stdout",
          "text": [
            "Scientist\n"
          ]
        }
      ]
    },
    {
      "cell_type": "code",
      "source": [
        "avg_salary_analyst = 70000\n",
        "avg_salary_scientist = 85000\n",
        "if avg_salary_analyst > avg_salary_scientist:\n",
        "  print('Analyst is greater than Scientist')\n",
        "elif avg_salary_analyst < avg_salary_scientist:\n",
        "  print('Scientist is greater than Analyst')"
      ],
      "metadata": {
        "colab": {
          "base_uri": "https://localhost:8080/"
        },
        "id": "L95QOPtr4vEY",
        "outputId": "861a602c-4c6b-42e7-896b-34b876d8c563"
      },
      "execution_count": null,
      "outputs": [
        {
          "output_type": "stream",
          "name": "stdout",
          "text": [
            "Scientist is greater than Analyst\n"
          ]
        }
      ]
    },
    {
      "cell_type": "code",
      "source": [
        "total_applications = 123\n",
        "job_openings = 67\n",
        "print(total_applications % job_openings)"
      ],
      "metadata": {
        "colab": {
          "base_uri": "https://localhost:8080/"
        },
        "id": "xZWimNfS6lBU",
        "outputId": "3ba60cee-e784-4ac8-c186-1d0010851ce7"
      },
      "execution_count": null,
      "outputs": [
        {
          "output_type": "stream",
          "name": "stdout",
          "text": [
            "56\n"
          ]
        }
      ]
    },
    {
      "cell_type": "code",
      "source": [
        "job_postings = 20\n",
        "new_job_postings = 5\n",
        "total_job_postings = job_postings + new_job_postings\n",
        "print(total_job_postings)"
      ],
      "metadata": {
        "colab": {
          "base_uri": "https://localhost:8080/"
        },
        "id": "Ap4sHzJQEfzT",
        "outputId": "45786352-36b6-4050-86da-63b88fcb2ecb"
      },
      "execution_count": null,
      "outputs": [
        {
          "output_type": "stream",
          "name": "stdout",
          "text": [
            "25\n"
          ]
        }
      ]
    },
    {
      "cell_type": "code",
      "source": [
        "job_postings = 20\n",
        "job_postings += 5\n",
        "print(job_postings)"
      ],
      "metadata": {
        "colab": {
          "base_uri": "https://localhost:8080/"
        },
        "id": "BYyc7T74GAVn",
        "outputId": "13d784ee-0197-4a00-e2ca-73e19467c995"
      },
      "execution_count": null,
      "outputs": [
        {
          "output_type": "stream",
          "name": "stdout",
          "text": [
            "25\n"
          ]
        }
      ]
    },
    {
      "cell_type": "code",
      "source": [
        "min_salary = 50000\n",
        "max_salary = 120000\n",
        "average_salary = (min_salary + max_salary) / 2\n",
        "print(average_salary)"
      ],
      "metadata": {
        "colab": {
          "base_uri": "https://localhost:8080/"
        },
        "id": "ry1QLRIfGaT5",
        "outputId": "23a7e844-32ff-4261-e5bd-fd91ff4c29d6"
      },
      "execution_count": null,
      "outputs": [
        {
          "output_type": "stream",
          "name": "stdout",
          "text": [
            "85000.0\n"
          ]
        }
      ]
    },
    {
      "cell_type": "code",
      "source": [
        "# Output someone's skill level based on the number of years someone has been using Python. Use the following criteria:\n",
        "\n",
        "# Less than 2 years is 'Beginner'\n",
        "# 2 or more years is 'Intermediate'\n",
        "# Set the variable python_experience to 3 and test this variable in the if statement\n",
        "\n",
        "python_experience = 3\n",
        "if python_experience < 2:\n",
        "  print('Beginner')\n",
        "elif python_experience >= 2:\n",
        "  print('Intermediate')"
      ],
      "metadata": {
        "colab": {
          "base_uri": "https://localhost:8080/"
        },
        "id": "1d3AP5btS3z-",
        "outputId": "21cbdeac-ebfe-490b-bb60-389769e41f98"
      },
      "execution_count": null,
      "outputs": [
        {
          "output_type": "stream",
          "name": "stdout",
          "text": [
            "Intermediate\n"
          ]
        }
      ]
    },
    {
      "cell_type": "code",
      "source": [
        "tools_known = 3\n",
        "if tools_known <=1:\n",
        "  print('Beginner')\n",
        "elif tools_known > 2 and tools_known < 4:\n",
        "  print('Intermediate')\n",
        "else:\n",
        "  print('Advanced')"
      ],
      "metadata": {
        "colab": {
          "base_uri": "https://localhost:8080/"
        },
        "id": "jjfslESr-KOc",
        "outputId": "3009501f-f12d-4979-c992-ae9a4a375c59"
      },
      "execution_count": null,
      "outputs": [
        {
          "output_type": "stream",
          "name": "stdout",
          "text": [
            "Intermediate\n"
          ]
        }
      ]
    },
    {
      "cell_type": "markdown",
      "source": [
        "Determine the job title based on years of job experience and years of SQL experience. The variable job_experience is set to 4 and sql_experience is set to 2. Use the following criteria:\n",
        "\n",
        "Less than 2 years of job experience is 'Junior Analyst'.\n",
        "2 to 5 years of job experience and 1 year of SQL experience is 'Intermediate Analyst'.\n",
        "2 to 5 years of job experience and 2 or more years of SQL experience is 'Senior Analyst'.\n",
        "More than 5 years of job experience and 3 or more years of SQL experience is 'Lead Analyst'.\n",
        "More than 5 years of job experience and less than 3 years of SQL experience is 'Data Analyst'."
      ],
      "metadata": {
        "id": "EAZfgUvPA6cl"
      }
    },
    {
      "cell_type": "code",
      "source": [
        "job_experience = 4\n",
        "sql_experience = 2\n",
        "if job_experience < 2:\n",
        "  job_title = 'Junior Analyst'\n",
        "elif job_experience >= 2 and job_experience < 5 and sql_experience == 1:\n",
        "  job_title = 'Intermediate Analyst'\n",
        "elif job_experience >= 2 and job_experience < 5 and sql_experience >= 2:\n",
        "  job_title = 'Senior Analyst'\n",
        "elif job_experience >= 5 and sql_experience >= 3:\n",
        "  job_title = 'Lead Analyst'\n",
        "else:\n",
        "  job_title = 'Data Analyst'\n",
        "print(job_title)"
      ],
      "metadata": {
        "colab": {
          "base_uri": "https://localhost:8080/"
        },
        "id": "7hOnA3_e_HL7",
        "outputId": "9f28f96f-5db5-45f6-b826-7fda93c6f42f"
      },
      "execution_count": null,
      "outputs": [
        {
          "output_type": "stream",
          "name": "stdout",
          "text": [
            "Senior Analyst\n"
          ]
        }
      ]
    },
    {
      "cell_type": "code",
      "source": [
        "job_titles = ['Data Scientist', 'Data Analyst', 'Machine Learning Engineer']\n",
        "job_titles [1]"
      ],
      "metadata": {
        "colab": {
          "base_uri": "https://localhost:8080/",
          "height": 35
        },
        "id": "uPp-oxx6CXAZ",
        "outputId": "5d19659f-4b20-4326-cb24-fe9c94542592"
      },
      "execution_count": null,
      "outputs": [
        {
          "output_type": "execute_result",
          "data": {
            "text/plain": [
              "'Data Analyst'"
            ],
            "application/vnd.google.colaboratory.intrinsic+json": {
              "type": "string"
            }
          },
          "metadata": {},
          "execution_count": 13
        }
      ]
    },
    {
      "cell_type": "code",
      "source": [
        "job_titles = ['Data Scientist', 'Data Analyst', 'Machine Learning Engineer']\n",
        "job_titles.append('AI Speclist')\n",
        "job_titles.remove('Machine Learning Engineer')\n",
        "print(job_titles)"
      ],
      "metadata": {
        "colab": {
          "base_uri": "https://localhost:8080/"
        },
        "id": "yrmy1GJcGft9",
        "outputId": "088906bf-c983-498d-91ad-7ad908ae24d4"
      },
      "execution_count": null,
      "outputs": [
        {
          "output_type": "stream",
          "name": "stdout",
          "text": [
            "['Data Scientist', 'Data Analyst', 'AI Speclist']\n"
          ]
        }
      ]
    },
    {
      "cell_type": "code",
      "source": [
        "job_titles = ['Data Scientist', 'Data Analyst', 'Machine Learning Engineer']\n",
        "job_titles[2] = 'AI Specialist'\n",
        "print(job_titles)"
      ],
      "metadata": {
        "colab": {
          "base_uri": "https://localhost:8080/"
        },
        "id": "j9-lUPQJH3la",
        "outputId": "b9455ae0-b0c8-4705-f9ee-7b6a3ec1902f"
      },
      "execution_count": null,
      "outputs": [
        {
          "output_type": "stream",
          "name": "stdout",
          "text": [
            "['Data Scientist', 'Data Analyst', 'AI Specialist']\n"
          ]
        }
      ]
    },
    {
      "cell_type": "code",
      "source": [
        "job_titles = ['Data Scientist', 'Data Analyst', 'Machine Learning Engineer', 'Data Engineer']\n",
        "print(job_titles[:2])"
      ],
      "metadata": {
        "colab": {
          "base_uri": "https://localhost:8080/"
        },
        "id": "kxdEXAW8IJDB",
        "outputId": "f5957a60-6ab2-44a6-bee1-399d9afd29a1"
      },
      "execution_count": null,
      "outputs": [
        {
          "output_type": "stream",
          "name": "stdout",
          "text": [
            "['Data Scientist', 'Data Analyst']\n"
          ]
        }
      ]
    },
    {
      "cell_type": "code",
      "source": [
        "job_titles = ['Data Scientist', 'Data Analyst', 'Machine Learning Engineer']\n",
        "job_titles.append('Data Engineer')\n",
        "print(job_titles)"
      ],
      "metadata": {
        "colab": {
          "base_uri": "https://localhost:8080/"
        },
        "id": "i4At2t3ZId99",
        "outputId": "a904c14b-204b-41ec-babe-da6003ae2085"
      },
      "execution_count": null,
      "outputs": [
        {
          "output_type": "stream",
          "name": "stdout",
          "text": [
            "['Data Scientist', 'Data Analyst', 'Machine Learning Engineer', 'Data Engineer']\n"
          ]
        }
      ]
    },
    {
      "cell_type": "code",
      "source": [
        "job_titles = ['Data Scientist', 'Data Analyst', 'Machine Learning Engineer']\n",
        "job_titles.insert(1, 'Business Analysts')\n",
        "print(job_titles)"
      ],
      "metadata": {
        "colab": {
          "base_uri": "https://localhost:8080/"
        },
        "id": "57kVw6RiJo-K",
        "outputId": "93bc90f3-3c3b-4b40-dd0f-507bb12ec11d"
      },
      "execution_count": null,
      "outputs": [
        {
          "output_type": "stream",
          "name": "stdout",
          "text": [
            "['Data Scientist', 'Business Analysts', 'Data Analyst', 'Machine Learning Engineer']\n"
          ]
        }
      ]
    },
    {
      "cell_type": "code",
      "source": [
        "2+2"
      ],
      "metadata": {
        "colab": {
          "base_uri": "https://localhost:8080/"
        },
        "id": "irV-bTTfJ_K4",
        "outputId": "fcc5862e-9b7a-49b2-e54c-378e401dfecc"
      },
      "execution_count": null,
      "outputs": [
        {
          "output_type": "execute_result",
          "data": {
            "text/plain": [
              "4"
            ]
          },
          "metadata": {},
          "execution_count": 1
        }
      ]
    },
    {
      "cell_type": "code",
      "source": [
        "2+5"
      ],
      "metadata": {
        "colab": {
          "base_uri": "https://localhost:8080/"
        },
        "id": "uWjxmyE8VkHE",
        "outputId": "dcfe7125-7783-42e4-c810-97cce3de5543"
      },
      "execution_count": null,
      "outputs": [
        {
          "output_type": "execute_result",
          "data": {
            "text/plain": [
              "7"
            ]
          },
          "metadata": {},
          "execution_count": 2
        }
      ]
    },
    {
      "cell_type": "code",
      "source": [
        "1+1"
      ],
      "metadata": {
        "colab": {
          "base_uri": "https://localhost:8080/"
        },
        "id": "Zp8xMPFNVnST",
        "outputId": "c2c7911e-163a-46b9-97c2-4d0454811286"
      },
      "execution_count": null,
      "outputs": [
        {
          "output_type": "execute_result",
          "data": {
            "text/plain": [
              "2"
            ]
          },
          "metadata": {},
          "execution_count": 3
        }
      ]
    },
    {
      "cell_type": "code",
      "source": [
        "job_title = 'Data Scientist'\n",
        "print(job_title.upper())"
      ],
      "metadata": {
        "colab": {
          "base_uri": "https://localhost:8080/"
        },
        "id": "lqXnU_mzXS7r",
        "outputId": "287d4653-cb16-4ec0-cc4e-7df40dcb7bff"
      },
      "execution_count": null,
      "outputs": [
        {
          "output_type": "stream",
          "name": "stdout",
          "text": [
            "DATA SCIENTIST\n"
          ]
        }
      ]
    },
    {
      "cell_type": "code",
      "source": [
        "position = 'Data Scientist'\n",
        "company = 'DataWiz Inc.'\n",
        "print(f'Postion: {position}; Company: {company}')"
      ],
      "metadata": {
        "colab": {
          "base_uri": "https://localhost:8080/"
        },
        "id": "yhJobk26uItB",
        "outputId": "525984c1-1654-42f1-fe37-c06ec8599b88"
      },
      "execution_count": null,
      "outputs": [
        {
          "output_type": "stream",
          "name": "stdout",
          "text": [
            "Postion: Data Scientist; Company: DataWiz Inc.\n"
          ]
        }
      ]
    },
    {
      "cell_type": "code",
      "source": [
        "position = 'Data Scientist'\n",
        "company = 'DataWiz Inc.'\n",
        "result = f'{position} at {company}'\n",
        "print(result)"
      ],
      "metadata": {
        "colab": {
          "base_uri": "https://localhost:8080/"
        },
        "id": "KE1uPGW51cjZ",
        "outputId": "06dea89b-539f-4f7b-de4e-b9033ba7b934"
      },
      "execution_count": null,
      "outputs": [
        {
          "output_type": "stream",
          "name": "stdout",
          "text": [
            "Data Scientist at DataWiz Inc.\n"
          ]
        }
      ]
    },
    {
      "cell_type": "code",
      "source": [
        "position = 'Data Scientist'\n",
        "company = 'DataWiz Inc.'\n",
        "print(f'{position} at {company}')"
      ],
      "metadata": {
        "colab": {
          "base_uri": "https://localhost:8080/"
        },
        "id": "ToSgl1Pm1-qk",
        "outputId": "685d00bd-4635-4950-e155-1a743f6b6729"
      },
      "execution_count": null,
      "outputs": [
        {
          "output_type": "stream",
          "name": "stdout",
          "text": [
            "Data Scientist at DataWiz Inc.\n"
          ]
        }
      ]
    },
    {
      "cell_type": "code",
      "source": [
        "role = 'Data Analyst'\n",
        "skill = 'Python'\n",
        "print('Role: {}, Skill Required: {}'.format(role, skill))"
      ],
      "metadata": {
        "colab": {
          "base_uri": "https://localhost:8080/"
        },
        "id": "jJypl1dE2L0W",
        "outputId": "5fd51fdf-2c4c-4007-d93b-89a334e5b614"
      },
      "execution_count": null,
      "outputs": [
        {
          "output_type": "stream",
          "name": "stdout",
          "text": [
            "Role: Data Analyst, Skill Required: Python\n"
          ]
        }
      ]
    },
    {
      "cell_type": "code",
      "source": [
        "role = 'Data Engineer'\n",
        "skill = 'SQL'\n",
        "result = 'Role: %s, Skill Required: %s' % (role, skill)\n",
        "print(result)"
      ],
      "metadata": {
        "colab": {
          "base_uri": "https://localhost:8080/"
        },
        "id": "Y917C1XI2l3T",
        "outputId": "9f987bce-fe89-49e9-8c59-eefe80c50984"
      },
      "execution_count": null,
      "outputs": [
        {
          "output_type": "stream",
          "name": "stdout",
          "text": [
            "Role: Data Engineer, Skill Required: SQL\n"
          ]
        }
      ]
    },
    {
      "cell_type": "code",
      "source": [
        "1 == 1.0"
      ],
      "metadata": {
        "colab": {
          "base_uri": "https://localhost:8080/"
        },
        "id": "rF6JbNWb3US6",
        "outputId": "a5036eb4-ff50-422b-9c24-e53db0aed6d8"
      },
      "execution_count": null,
      "outputs": [
        {
          "output_type": "execute_result",
          "data": {
            "text/plain": [
              "True"
            ]
          },
          "metadata": {},
          "execution_count": 11
        }
      ]
    },
    {
      "cell_type": "code",
      "source": [
        "python_experience = 3\n",
        "\n",
        "if python_experience < 2:\n",
        "  print('Beginner')\n",
        "elif python_experience >= 2:\n",
        "  print('Intermediate')"
      ],
      "metadata": {
        "id": "nuJwrvyJAfdb",
        "colab": {
          "base_uri": "https://localhost:8080/"
        },
        "outputId": "944b2781-61ea-4580-c084-ad033813e4bd"
      },
      "execution_count": null,
      "outputs": [
        {
          "output_type": "stream",
          "name": "stdout",
          "text": [
            "Intermediate\n"
          ]
        }
      ]
    },
    {
      "cell_type": "code",
      "source": [
        "tools_known = 3\n",
        "if tools_known <= 1:\n",
        "  print('Beginner')\n",
        "elif tools_known > 1 and tools_known < 4:\n",
        "  print('Intermediate')\n",
        "else:\n",
        "  print('Advanced')"
      ],
      "metadata": {
        "colab": {
          "base_uri": "https://localhost:8080/"
        },
        "id": "8EBVbZcG66P2",
        "outputId": "0a11408f-92b5-46dd-c762-5057e477323e"
      },
      "execution_count": null,
      "outputs": [
        {
          "output_type": "stream",
          "name": "stdout",
          "text": [
            "Intermediate\n"
          ]
        }
      ]
    },
    {
      "cell_type": "code",
      "source": [
        "job_experience = 4\n",
        "sql_experience = 2\n",
        "\n",
        "\n",
        "if job_experience < 2 and sql_experience == 0:\n",
        " job_title = \"Associate Analyst\"\n",
        "elif job_experience < 2 and sql_experience > 1:\n",
        " job_title = \"Junior Analyst\"\n",
        "\n",
        "elif job_experience >= 2 and job_experience <= 5 and sql_experience == 0:\n",
        " job_title = \"Associate Analyst\"\n",
        "elif job_experience >= 2 and job_experience <= 5 and sql_experience == 1:\n",
        " job_title = \"Intermediate Analyst\"\n",
        "elif job_experience >= 2 and job_experience <= 5 and sql_experience >= 2:\n",
        " job_title = \"Senior Analyst\"\n",
        "\n",
        "elif job_experience > 5 and sql_experience <= 2:\n",
        " job_title = \"Data Analyst\"\n",
        "elif job_experience > 5 and sql_experience > 3:\n",
        " job_title = \"Lead Analyst\"\n",
        "else:\n",
        "  job_title = \"Unknown\"\n",
        "\n",
        "print (job_title)\n",
        "\n"
      ],
      "metadata": {
        "colab": {
          "base_uri": "https://localhost:8080/"
        },
        "id": "L4KFs2NR7JOj",
        "outputId": "800504af-ced7-40b8-bdc0-7c0e2f561142"
      },
      "execution_count": null,
      "outputs": [
        {
          "output_type": "stream",
          "name": "stdout",
          "text": [
            "Senior Analyst\n"
          ]
        }
      ]
    },
    {
      "cell_type": "code",
      "source": [
        "sql_experience = 3\n",
        "\n",
        "if 2 <= sql_experience <= 4:\n",
        "    print(\"SQL experience is between 2 and 4 (inclusive)\")"
      ],
      "metadata": {
        "colab": {
          "base_uri": "https://localhost:8080/"
        },
        "id": "I9YmWiqY_6fX",
        "outputId": "dfefdc43-7ef1-4558-d561-b41cb2041917"
      },
      "execution_count": null,
      "outputs": [
        {
          "output_type": "stream",
          "name": "stdout",
          "text": [
            "SQL experience is between 2 and 4 (inclusive)\n"
          ]
        }
      ]
    },
    {
      "cell_type": "code",
      "source": [
        "sql_experience = 3\n",
        "\n",
        "if sql_experience in range(2, 5):  # Note: range(2, 5) is equivalent to 2 <= x < 5\n",
        "    print(\"SQL experience is between 2 and 4 (inclusive of 2, exclusive of 5)\")"
      ],
      "metadata": {
        "colab": {
          "base_uri": "https://localhost:8080/"
        },
        "id": "B0ljeR6mELXO",
        "outputId": "8c1d531c-8188-452b-9999-37058ce517b3"
      },
      "execution_count": null,
      "outputs": [
        {
          "output_type": "stream",
          "name": "stdout",
          "text": [
            "SQL experience is between 2 and 4 (inclusive of 2, exclusive of 5)\n"
          ]
        }
      ]
    },
    {
      "cell_type": "code",
      "source": [
        "job_titles = ['Data Scientist', 'Data Analyst', 'Machine Learning Engineer']\n",
        "job_titles [1]"
      ],
      "metadata": {
        "colab": {
          "base_uri": "https://localhost:8080/",
          "height": 35
        },
        "id": "1ofVSDbgEnyi",
        "outputId": "bc494e81-4e4e-41f5-e7c8-d15a21cd4540"
      },
      "execution_count": null,
      "outputs": [
        {
          "output_type": "execute_result",
          "data": {
            "text/plain": [
              "'Data Analyst'"
            ],
            "application/vnd.google.colaboratory.intrinsic+json": {
              "type": "string"
            }
          },
          "metadata": {},
          "execution_count": 23
        }
      ]
    },
    {
      "cell_type": "code",
      "source": [
        "job_titles = ['Data Scientist', 'Data Analyst', 'Machine Learning Engineer']\n",
        "job_titles.append('AI Specialist')\n",
        "job_titles.remove('Machine Learning Engineer')\n",
        "print(job_titles)"
      ],
      "metadata": {
        "colab": {
          "base_uri": "https://localhost:8080/"
        },
        "id": "FFXECQIbJ3Cp",
        "outputId": "b9535526-c175-44ba-8c3e-159c8f982e84"
      },
      "execution_count": null,
      "outputs": [
        {
          "output_type": "stream",
          "name": "stdout",
          "text": [
            "['Data Scientist', 'Data Analyst', 'AI Specialist']\n"
          ]
        }
      ]
    },
    {
      "cell_type": "code",
      "source": [
        "job_titles = ['Data Scientist', 'Data Analyst', 'Machine Learning Engineer']\n",
        "job_titles[2] = 'AI Specialist'\n",
        "print(job_titles)"
      ],
      "metadata": {
        "colab": {
          "base_uri": "https://localhost:8080/"
        },
        "id": "NJLix9zlJ_d6",
        "outputId": "e4e263d3-0444-4dd9-a4fa-549d50dc075a"
      },
      "execution_count": null,
      "outputs": [
        {
          "output_type": "stream",
          "name": "stdout",
          "text": [
            "['Data Scientist', 'Data Analyst', 'AI Specialist']\n"
          ]
        }
      ]
    },
    {
      "cell_type": "code",
      "source": [
        "job_titles = ['Data Scientist', 'Data Analyst', 'Machine Learning Engineer']\n",
        "job_titles[0] = 'Software Engineer'\n",
        "print(job_titles)"
      ],
      "metadata": {
        "colab": {
          "base_uri": "https://localhost:8080/"
        },
        "id": "ZfW5z-S6LX2Z",
        "outputId": "1466e22e-a994-4458-8289-be0b9333ccf5"
      },
      "execution_count": null,
      "outputs": [
        {
          "output_type": "stream",
          "name": "stdout",
          "text": [
            "['Software Engineer', 'Data Analyst', 'Machine Learning Engineer']\n"
          ]
        }
      ]
    },
    {
      "cell_type": "code",
      "source": [
        "job_titles = ['Data Scientist', 'Data Analyst', 'Machine Learning Engineer', 'Data Engineer']\n",
        "selected_jobs = job_titles[:2]\n",
        "print(selected_jobs)"
      ],
      "metadata": {
        "colab": {
          "base_uri": "https://localhost:8080/"
        },
        "id": "s6XdgOgRLY2F",
        "outputId": "4301f08b-b7f0-4b6d-e3e4-b5fde857241c"
      },
      "execution_count": null,
      "outputs": [
        {
          "output_type": "stream",
          "name": "stdout",
          "text": [
            "['Data Scientist', 'Data Analyst']\n"
          ]
        }
      ]
    },
    {
      "cell_type": "code",
      "source": [
        "job_titles = ['Data Scientist', 'Data Analyst', 'Machine Learning Engineer']\n",
        "job_titles.append('Data Engineer')\n",
        "print(job_titles)"
      ],
      "metadata": {
        "colab": {
          "base_uri": "https://localhost:8080/"
        },
        "id": "Ha9AoeblLZCw",
        "outputId": "06211187-9c5a-450e-caf8-5a30f4fe1eb3"
      },
      "execution_count": null,
      "outputs": [
        {
          "output_type": "stream",
          "name": "stdout",
          "text": [
            "['Data Scientist', 'Data Analyst', 'Machine Learning Engineer', 'Data Engineer']\n"
          ]
        }
      ]
    },
    {
      "cell_type": "code",
      "source": [
        "job_titles = ['Data Scientist', 'Data Analyst', 'Machine Learning Engineer']\n",
        "job_titles.insert(1, 'Business Analyst')\n",
        "print(job_titles)"
      ],
      "metadata": {
        "colab": {
          "base_uri": "https://localhost:8080/"
        },
        "id": "aMxIB6gsLZPL",
        "outputId": "1be2f840-0136-42c8-b78e-b4fdcb7d8038"
      },
      "execution_count": null,
      "outputs": [
        {
          "output_type": "stream",
          "name": "stdout",
          "text": [
            "['Data Scientist', 'Business Analyst', 'Data Analyst', 'Machine Learning Engineer']\n"
          ]
        }
      ]
    },
    {
      "cell_type": "code",
      "source": [
        "job_postings = {'Data Scientist': 120, 'Data Analyst': 80, 'Machine Learning Engineer': 50}\n",
        "print(job_postings['Data Analyst'])"
      ],
      "metadata": {
        "colab": {
          "base_uri": "https://localhost:8080/"
        },
        "id": "ClNpOIS3LZZY",
        "outputId": "40e48813-36ee-42de-a739-26ef64bf35c5"
      },
      "execution_count": null,
      "outputs": [
        {
          "output_type": "stream",
          "name": "stdout",
          "text": [
            "80\n"
          ]
        }
      ]
    },
    {
      "cell_type": "code",
      "source": [
        "job_postings = {'Data Scientist': 120, 'Data Analyst': 80, 'Machine Learning Engineer': 50}\n",
        "job_postings['AI Specialist'] = 30\n",
        "print(job_postings)"
      ],
      "metadata": {
        "colab": {
          "base_uri": "https://localhost:8080/"
        },
        "id": "DnA1qrHcRfLk",
        "outputId": "e93e2b3f-d88d-4a6d-9f0f-fe74562e97cb"
      },
      "execution_count": null,
      "outputs": [
        {
          "output_type": "stream",
          "name": "stdout",
          "text": [
            "{'Data Scientist': 120, 'Data Analyst': 80, 'Machine Learning Engineer': 50, 'AI Specialist': 30}\n"
          ]
        }
      ]
    },
    {
      "cell_type": "code",
      "source": [
        "job_postings = {'Data Scientist': 120, 'Data Analyst': 80, 'Machine Learning Engineer': 50}\n",
        "job_postings.pop('Machine Learning Engineer')\n",
        "print(job_postings)"
      ],
      "metadata": {
        "colab": {
          "base_uri": "https://localhost:8080/"
        },
        "id": "MhypaEudR8TV",
        "outputId": "609d041b-d9d0-4b26-bd33-1a990c39c255"
      },
      "execution_count": null,
      "outputs": [
        {
          "output_type": "stream",
          "name": "stdout",
          "text": [
            "{'Data Scientist': 120, 'Data Analyst': 80}\n"
          ]
        }
      ]
    },
    {
      "cell_type": "code",
      "source": [
        "job_postings1 = {'Data Scientist': 120, 'Data Analyst': 80}\n",
        "job_postings2 = {'Machine Learning Engineer': 50, 'AI Specialist': 30}\n",
        "job_postings1.update(job_postings2)\n",
        "print(job_postings1)"
      ],
      "metadata": {
        "colab": {
          "base_uri": "https://localhost:8080/"
        },
        "id": "xAk0t72pSOiT",
        "outputId": "7ac8b6c2-968b-450e-912a-2f5a9a24c959"
      },
      "execution_count": null,
      "outputs": [
        {
          "output_type": "stream",
          "name": "stdout",
          "text": [
            "{'Data Scientist': 120, 'Data Analyst': 80, 'Machine Learning Engineer': 50, 'AI Specialist': 30}\n"
          ]
        }
      ]
    },
    {
      "cell_type": "code",
      "source": [
        "# #Create a nested dictionary job_details where each key is a job role and the value is another dictionary containing 'postings' and 'average_salary'.\n",
        "# The details for each are: 'Data Scientist' has 120 postings and an average salary of 120000; 'Data Analyst' has 80 postings and an average salary of 80000;\n",
        "# Machine Learning Engineer has 50 postings and average salary of 110000. Print the nested dictionary.\n",
        "\n",
        "job_details= {'Data Analyst': {'job_postings':80, 'average_salary':80000},\n",
        "              'Data Scientist': {'job_postings':120, 'average_salary':120000},\n",
        "              'Machine Learning Engineer': {'job_postings':50, 'average_salary':110000}}\n",
        "print(job_details)"
      ],
      "metadata": {
        "colab": {
          "base_uri": "https://localhost:8080/"
        },
        "id": "TlUP2p_hSxHo",
        "outputId": "730123a6-b077-4bfb-c5d0-6e0ab061a82c"
      },
      "execution_count": null,
      "outputs": [
        {
          "output_type": "stream",
          "name": "stdout",
          "text": [
            "{'Data Analyst': {'job_postings': 80, 'average_salary': 80000}, 'Data Scientist': {'job_postings': 120, 'average_salary': 120000}, 'Machine Learning Engineer': {'job_postings': 50, 'average_salary': 110000}}\n"
          ]
        }
      ]
    },
    {
      "cell_type": "code",
      "source": [
        "unique_job_titles = {'Data Scientist', 'Data Analyst', 'Machine Learning Engineer'}\n",
        "unique_job_titles.add('AI Specialist')\n",
        "print(unique_job_titles)"
      ],
      "metadata": {
        "colab": {
          "base_uri": "https://localhost:8080/"
        },
        "id": "-8ZuPlbsU7_y",
        "outputId": "926bb966-ca3f-430a-fbe7-60ba2faceebd"
      },
      "execution_count": null,
      "outputs": [
        {
          "output_type": "stream",
          "name": "stdout",
          "text": [
            "{'Data Analyst', 'Machine Learning Engineer', 'Data Scientist', 'AI Specialist'}\n"
          ]
        }
      ]
    },
    {
      "cell_type": "code",
      "source": [
        "unique_job_titles = {'Data Scientist', 'Data Analyst', 'Machine Learning Engineer'}\n",
        "unique_job_titles.remove('Data Analyst')\n",
        "print(unique_job_titles)"
      ],
      "metadata": {
        "colab": {
          "base_uri": "https://localhost:8080/"
        },
        "id": "0IVCcmQjX7-f",
        "outputId": "18f275df-5bc0-425e-90b3-5be0c8a34611"
      },
      "execution_count": null,
      "outputs": [
        {
          "output_type": "stream",
          "name": "stdout",
          "text": [
            "{'Machine Learning Engineer', 'Data Scientist'}\n"
          ]
        }
      ]
    },
    {
      "cell_type": "code",
      "source": [
        "job_locations = ['New York', 'San Francisco', 'New York', 'Austin', 'San Francisco']\n",
        "set(job_locations)\n",
        "print(set(job_locations))"
      ],
      "metadata": {
        "colab": {
          "base_uri": "https://localhost:8080/"
        },
        "id": "_CAiMmoBYRPw",
        "outputId": "62f68e26-f010-493e-f0d1-5a3c2aaba6c8"
      },
      "execution_count": null,
      "outputs": [
        {
          "output_type": "stream",
          "name": "stdout",
          "text": [
            "{'New York', 'San Francisco', 'Austin'}\n"
          ]
        }
      ]
    },
    {
      "cell_type": "code",
      "source": [
        "skills_set1 = {'Python', 'SQL', 'Tableau'}\n",
        "skills_set2 = {'R', 'SQL', 'Machine Learning'}\n",
        "print(skills_set1.union(skills_set2))"
      ],
      "metadata": {
        "colab": {
          "base_uri": "https://localhost:8080/"
        },
        "id": "Cfr3EqWoZAgZ",
        "outputId": "e6505f93-8ba8-47c3-dc8c-08b5d4865e79"
      },
      "execution_count": null,
      "outputs": [
        {
          "output_type": "stream",
          "name": "stdout",
          "text": [
            "{'Tableau', 'R', 'Machine Learning', 'Python', 'SQL'}\n"
          ]
        }
      ]
    },
    {
      "cell_type": "code",
      "source": [
        "job_roles = ('Data Scientist', 'Data Analyst', 'Machine Learning Engineer')\n",
        "job_roles[1]\n",
        "print(job_roles[1])"
      ],
      "metadata": {
        "colab": {
          "base_uri": "https://localhost:8080/"
        },
        "id": "rMdmJCnAZLNd",
        "outputId": "2b4ec793-1ad8-4e79-9ea7-f8dcd9c40ce4"
      },
      "execution_count": null,
      "outputs": [
        {
          "output_type": "stream",
          "name": "stdout",
          "text": [
            "Data Analyst\n"
          ]
        }
      ]
    },
    {
      "cell_type": "code",
      "source": [
        "job_roles = ('Data Scientist', 'Data Analyst', 'Machine Learning Engineer')\n",
        "\n",
        "job_roles = job_roles + ('AI Specialist',)\n",
        "print(job_roles)"
      ],
      "metadata": {
        "colab": {
          "base_uri": "https://localhost:8080/"
        },
        "id": "i3oeHP7Wof8U",
        "outputId": "80e99349-f05a-47c9-821e-0b8ea035687f"
      },
      "execution_count": null,
      "outputs": [
        {
          "output_type": "stream",
          "name": "stdout",
          "text": [
            "('Data Scientist', 'Data Analyst', 'Machine Learning Engineer', 'AI Specialist')\n"
          ]
        }
      ]
    },
    {
      "cell_type": "code",
      "source": [
        "job_roles = ('Data Scientist', 'Data Analyst', 'Machine Learning Engineer')\n",
        "job_roles = list(job_roles)\n",
        "job_roles.remove('Data Analyst')\n",
        "job_roles = tuple(job_roles)\n",
        "print(job_roles)"
      ],
      "metadata": {
        "colab": {
          "base_uri": "https://localhost:8080/"
        },
        "id": "uGMyZGHNp5TR",
        "outputId": "619da758-04a3-41ee-a94c-61b7f6ae089e"
      },
      "execution_count": null,
      "outputs": [
        {
          "output_type": "stream",
          "name": "stdout",
          "text": [
            "('Data Scientist', 'Machine Learning Engineer')\n"
          ]
        }
      ]
    },
    {
      "cell_type": "code",
      "source": [
        "job_postings = (120, 80, 50)\n",
        "data_scientist_postings, data_analyst_postings,ml_engineer_postings= job_postings\n",
        "print(data_scientist_postings)\n",
        "print(data_analyst_postings)\n",
        "print(ml_engineer_postings)"
      ],
      "metadata": {
        "colab": {
          "base_uri": "https://localhost:8080/"
        },
        "id": "etmBd4muqIk0",
        "outputId": "1a9d43e1-82f5-486f-da24-1b580b45746b"
      },
      "execution_count": null,
      "outputs": [
        {
          "output_type": "stream",
          "name": "stdout",
          "text": [
            "120\n",
            "80\n",
            "50\n"
          ]
        }
      ]
    },
    {
      "cell_type": "code",
      "source": [
        "job_details = (('Data Scientist', 120), ('Data Analyst', 80), ('Machine Learning Engineer', 50))\n",
        "print(job_details[2][1])"
      ],
      "metadata": {
        "colab": {
          "base_uri": "https://localhost:8080/"
        },
        "id": "eTW67xBRr0cv",
        "outputId": "66a351c2-4dd6-4492-95e3-3c90945536a3"
      },
      "execution_count": null,
      "outputs": [
        {
          "output_type": "stream",
          "name": "stdout",
          "text": [
            "50\n"
          ]
        }
      ]
    },
    {
      "cell_type": "code",
      "source": [
        "job_title1 = 'Data Engineer'\n",
        "job_title2 = 'Data Scientist'\n",
        "job_title1 is not job_title2\n"
      ],
      "metadata": {
        "colab": {
          "base_uri": "https://localhost:8080/"
        },
        "id": "ElcBzxGJtUuj",
        "outputId": "eaa2ba40-d50a-4c0f-b63b-db61424da443"
      },
      "execution_count": null,
      "outputs": [
        {
          "output_type": "execute_result",
          "data": {
            "text/plain": [
              "True"
            ]
          },
          "metadata": {},
          "execution_count": 48
        }
      ]
    },
    {
      "cell_type": "code",
      "source": [
        "job_locations = ['New York', 'San Francisco', 'Austin']\n",
        "print('New York' in job_locations)"
      ],
      "metadata": {
        "colab": {
          "base_uri": "https://localhost:8080/"
        },
        "id": "nKXl5wOuwpzQ",
        "outputId": "7719f9e8-8915-4e73-f4b8-14414f24e990"
      },
      "execution_count": null,
      "outputs": [
        {
          "output_type": "stream",
          "name": "stdout",
          "text": [
            "True\n"
          ]
        }
      ]
    },
    {
      "cell_type": "code",
      "source": [
        "job_title = 'Data Analyst'\n",
        "job_description = 'Data Scientist at Tech Corp'\n",
        "print(job_title not in job_description)"
      ],
      "metadata": {
        "colab": {
          "base_uri": "https://localhost:8080/"
        },
        "id": "LkJzZxQRxbC4",
        "outputId": "0ec5c457-f477-418c-a807-217f2bc65c57"
      },
      "execution_count": null,
      "outputs": [
        {
          "output_type": "stream",
          "name": "stdout",
          "text": [
            "True\n"
          ]
        }
      ]
    },
    {
      "cell_type": "code",
      "source": [
        "job_titles = ['Data Scientist', 'Data Analyst', 'Machine Learning Engineer']\n",
        "print('Data Scientist'and 'Machine Learning Engineer'in job_titles)"
      ],
      "metadata": {
        "colab": {
          "base_uri": "https://localhost:8080/"
        },
        "id": "tGtMg6mU0Dp2",
        "outputId": "603f5fb4-f753-4032-ae50-75ec70d5e061"
      },
      "execution_count": null,
      "outputs": [
        {
          "output_type": "stream",
          "name": "stdout",
          "text": [
            "True\n"
          ]
        }
      ]
    },
    {
      "cell_type": "code",
      "source": [
        "salary1 = 100000\n",
        "salary2 = 50000\n",
        "print(salary1 | salary2)"
      ],
      "metadata": {
        "colab": {
          "base_uri": "https://localhost:8080/"
        },
        "id": "bTYHLm3T0XQP",
        "outputId": "4126d8db-ffc6-452b-b2f9-df947d21509c"
      },
      "execution_count": null,
      "outputs": [
        {
          "output_type": "stream",
          "name": "stdout",
          "text": [
            "116720\n"
          ]
        }
      ]
    },
    {
      "cell_type": "code",
      "source": [
        "job_titles = ['Data Scientist', 'Data Analyst', 'Machine Learning Engineer']\n",
        "for title in job_titles:\n",
        "  print(title)"
      ],
      "metadata": {
        "id": "Dm3EM4yb1HPu",
        "colab": {
          "base_uri": "https://localhost:8080/"
        },
        "outputId": "9998209e-8b95-4519-815a-62aadca925ad"
      },
      "execution_count": null,
      "outputs": [
        {
          "output_type": "stream",
          "name": "stdout",
          "text": [
            "Data Scientist\n",
            "Data Analyst\n",
            "Machine Learning Engineer\n"
          ]
        }
      ]
    },
    {
      "cell_type": "code",
      "source": [
        "total_job_postings = 0\n",
        "index = 0\n",
        "job_postings = [5, 10, 15, 20, 25]\n",
        "while index < len(job_postings):\n",
        "  total_job_postings += job_postings[index]\n",
        "  index += 1\n",
        "print(total_job_postings)\n",
        "\n"
      ],
      "metadata": {
        "colab": {
          "base_uri": "https://localhost:8080/"
        },
        "id": "KRvGxkr83X8c",
        "outputId": "10c4cedf-1b59-41da-95d5-e7ba8ab0337b"
      },
      "execution_count": null,
      "outputs": [
        {
          "output_type": "stream",
          "name": "stdout",
          "text": [
            "75\n"
          ]
        }
      ]
    },
    {
      "cell_type": "code",
      "source": [
        "help(enumerate)"
      ],
      "metadata": {
        "colab": {
          "base_uri": "https://localhost:8080/"
        },
        "id": "l5jg1Pr06IEI",
        "outputId": "33621d3c-e245-4e8f-b86e-290770c3c7e2"
      },
      "execution_count": null,
      "outputs": [
        {
          "output_type": "stream",
          "name": "stdout",
          "text": [
            "Help on class enumerate in module builtins:\n",
            "\n",
            "class enumerate(object)\n",
            " |  enumerate(iterable, start=0)\n",
            " |  \n",
            " |  Return an enumerate object.\n",
            " |  \n",
            " |    iterable\n",
            " |      an object supporting iteration\n",
            " |  \n",
            " |  The enumerate object yields pairs containing a count (from start, which\n",
            " |  defaults to zero) and a value yielded by the iterable argument.\n",
            " |  \n",
            " |  enumerate is useful for obtaining an indexed list:\n",
            " |      (0, seq[0]), (1, seq[1]), (2, seq[2]), ...\n",
            " |  \n",
            " |  Methods defined here:\n",
            " |  \n",
            " |  __getattribute__(self, name, /)\n",
            " |      Return getattr(self, name).\n",
            " |  \n",
            " |  __iter__(self, /)\n",
            " |      Implement iter(self).\n",
            " |  \n",
            " |  __next__(self, /)\n",
            " |      Implement next(self).\n",
            " |  \n",
            " |  __reduce__(...)\n",
            " |      Return state information for pickling.\n",
            " |  \n",
            " |  ----------------------------------------------------------------------\n",
            " |  Class methods defined here:\n",
            " |  \n",
            " |  __class_getitem__(...)\n",
            " |      See PEP 585\n",
            " |  \n",
            " |  ----------------------------------------------------------------------\n",
            " |  Static methods defined here:\n",
            " |  \n",
            " |  __new__(*args, **kwargs)\n",
            " |      Create and return a new object.  See help(type) for accurate signature.\n",
            "\n"
          ]
        }
      ]
    },
    {
      "cell_type": "code",
      "source": [
        "job_titles = ['Data Scientist', 'Data Analyst', 'Machine Learning Engineer']\n",
        "print(list(enumerate(job_titles)))"
      ],
      "metadata": {
        "colab": {
          "base_uri": "https://localhost:8080/"
        },
        "id": "Ui1D-Cek7Icc",
        "outputId": "f6199b1b-ed98-4f09-b06c-d04b15b49d7c"
      },
      "execution_count": null,
      "outputs": [
        {
          "output_type": "stream",
          "name": "stdout",
          "text": [
            "[(0, 'Data Scientist'), (1, 'Data Analyst'), (2, 'Machine Learning Engineer')]\n"
          ]
        }
      ]
    },
    {
      "cell_type": "code",
      "source": [
        "job_titles = ['Data Scientist', 'Data Analyst', 'Machine Learning Engineer']\n",
        "for index, title in enumerate(job_titles):\n",
        "    print(f'{index}: {title}')"
      ],
      "metadata": {
        "colab": {
          "base_uri": "https://localhost:8080/"
        },
        "id": "QbvKoWr17Wuj",
        "outputId": "7aaaba04-af27-4d3a-c913-f1e4782a2054"
      },
      "execution_count": null,
      "outputs": [
        {
          "output_type": "stream",
          "name": "stdout",
          "text": [
            "0: Data Scientist\n",
            "1: Data Analyst\n",
            "2: Machine Learning Engineer\n"
          ]
        }
      ]
    },
    {
      "cell_type": "code",
      "source": [
        "job_titles = ['Data Scientist', 'Data Analyst', 'Machine Learning Engineer', 'Software Engineer']\n",
        "index = 0\n",
        "while index < len(job_titles):\n",
        "    if 'Engineer' in job_titles[index]:\n",
        "        print(job_titles[index])\n",
        "        break\n",
        "    index += 1"
      ],
      "metadata": {
        "colab": {
          "base_uri": "https://localhost:8080/"
        },
        "id": "DQaCng_N8Gyf",
        "outputId": "780343d5-e68d-425e-9bdc-ba4077bd9f7c"
      },
      "execution_count": null,
      "outputs": [
        {
          "output_type": "stream",
          "name": "stdout",
          "text": [
            "Machine Learning Engineer\n"
          ]
        }
      ]
    },
    {
      "cell_type": "code",
      "source": [
        "positions_skills = {\n",
        "    'Data Scientist': ['Python', 'R'],\n",
        "    'Data Analyst': ['SQL', 'Excel'],\n",
        "    'Machine Learning Engineer': ['Python', 'TensorFlow']\n",
        "}\n",
        "for position, skills in positions_skills.items():\n",
        "  for skill in skills:\n",
        "    print(f'The role of a {position} requires skills in {skill}.')"
      ],
      "metadata": {
        "colab": {
          "base_uri": "https://localhost:8080/"
        },
        "id": "PGAQ8Hip9McO",
        "outputId": "457a3a55-4ce0-4b81-a921-56c4ee40e0bc"
      },
      "execution_count": null,
      "outputs": [
        {
          "output_type": "stream",
          "name": "stdout",
          "text": [
            "The role of a Data Scientist requires skills in Python.\n",
            "The role of a Data Scientist requires skills in R.\n",
            "The role of a Data Analyst requires skills in SQL.\n",
            "The role of a Data Analyst requires skills in Excel.\n",
            "The role of a Machine Learning Engineer requires skills in Python.\n",
            "The role of a Machine Learning Engineer requires skills in TensorFlow.\n"
          ]
        }
      ]
    },
    {
      "cell_type": "code",
      "source": [],
      "metadata": {
        "id": "ooxvx0D7CNiy"
      },
      "execution_count": null,
      "outputs": []
    },
    {
      "cell_type": "code",
      "source": [
        "job_titles = ['Data Scientist', 'Data Analyst', 'Machine Learning Engineer', 'Software Engineer']\n",
        "index = 0\n",
        "while index < len(job_titles):\n",
        "    if 'Engineer' in job_titles[index]:\n",
        "        print(job_titles[index])\n",
        "\n",
        "    index += 1\n"
      ],
      "metadata": {
        "colab": {
          "base_uri": "https://localhost:8080/"
        },
        "outputId": "48bbfbb1-db85-48f1-9855-57e6fe91514f",
        "id": "doxAKZhwGkyl"
      },
      "execution_count": null,
      "outputs": [
        {
          "output_type": "stream",
          "name": "stdout",
          "text": [
            "Machine Learning Engineer\n",
            "Software Engineer\n"
          ]
        }
      ]
    },
    {
      "cell_type": "code",
      "source": [
        "salaries_usd = [100000, 120000, 80000, 90000]\n",
        "salaries_eup = [x*0.85 for x in salaries_usd]\n",
        "print(salaries_eup)"
      ],
      "metadata": {
        "colab": {
          "base_uri": "https://localhost:8080/"
        },
        "id": "fIG84ZNYJiAE",
        "outputId": "3d4cc5d7-617f-47bb-f4b3-17387bd70bcc"
      },
      "execution_count": null,
      "outputs": [
        {
          "output_type": "stream",
          "name": "stdout",
          "text": [
            "[85000.0, 102000.0, 68000.0, 76500.0]\n"
          ]
        }
      ]
    },
    {
      "cell_type": "code",
      "source": [
        "job_experience = {'Data Scientist': 3, 'Data Analyst': 1, 'Machine Learning Specialist': 4, 'Data Engineer': 2}\n",
        "job_experience = {key: value for key, value in job_experience.items() if value > 2}\n",
        "print(job_experience)"
      ],
      "metadata": {
        "colab": {
          "base_uri": "https://localhost:8080/"
        },
        "id": "qV8mH94eKH8I",
        "outputId": "68742d2a-4057-46cc-fd71-a99ec18f5f3f"
      },
      "execution_count": null,
      "outputs": [
        {
          "output_type": "stream",
          "name": "stdout",
          "text": [
            "{'Data Scientist': 3, 'Machine Learning Specialist': 4}\n"
          ]
        }
      ]
    },
    {
      "cell_type": "code",
      "source": [
        "job_salary_dicts = [{'job_title': 'Data Scientist', 'salary': 100000}, {'job_title': 'Data Analyst', 'salary': 120000}, {'job_title': 'Data Engineer', 'salary': 80000}, {'job_title': 'Machine Learning Engineer', 'salary': 90000}]\n",
        "job_salary_dicts = [x for x in job_salary_dicts if x['salary'] > 90000]\n",
        "print(job_salary_dicts)"
      ],
      "metadata": {
        "colab": {
          "base_uri": "https://localhost:8080/"
        },
        "id": "_V1O-M7LLkvg",
        "outputId": "ba0e01f5-f219-4bd1-86b9-c210fb83aff3"
      },
      "execution_count": null,
      "outputs": [
        {
          "output_type": "stream",
          "name": "stdout",
          "text": [
            "[{'job_title': 'Data Scientist', 'salary': 100000}, {'job_title': 'Data Analyst', 'salary': 120000}]\n"
          ]
        }
      ]
    },
    {
      "cell_type": "code",
      "source": [
        "job_title = 'Data Scientist'\n",
        "keyword = 'Data'\n",
        "\n",
        "def job_title_contains ():\n",
        "  if keyword in job_title:\n",
        "    return True\n",
        "  else:\n",
        "    return False\n",
        "print(job_title_contains())\n"
      ],
      "metadata": {
        "colab": {
          "base_uri": "https://localhost:8080/"
        },
        "id": "m81sSbK2MM2t",
        "outputId": "b2faf6b0-7b4e-4830-c774-2b2f48263418"
      },
      "execution_count": null,
      "outputs": [
        {
          "output_type": "stream",
          "name": "stdout",
          "text": [
            "True\n"
          ]
        }
      ]
    },
    {
      "cell_type": "code",
      "source": [
        "salaries = [95000, 120000, 105000, 90000, 130000]\n",
        "\n",
        "def average_salary(salaries):\n",
        "  return sum(salaries) / len(salaries)\n",
        "\n",
        "print(average_salary(salaries))"
      ],
      "metadata": {
        "colab": {
          "base_uri": "https://localhost:8080/"
        },
        "id": "RfBEpgkqbA6v",
        "outputId": "8e7b64a4-9637-4626-8a32-187f466713df"
      },
      "execution_count": null,
      "outputs": [
        {
          "output_type": "stream",
          "name": "stdout",
          "text": [
            "108000.0\n"
          ]
        }
      ]
    },
    {
      "cell_type": "code",
      "source": [
        "salaries = [95000, 120000, 105000, 90000, 130000]\n",
        "\n",
        "def salary_statistics (salaries):\n",
        "  return min(salaries), max(salaries), sum(salaries) / len(salaries)\n",
        "\n",
        "print(salary_statistics(salaries))"
      ],
      "metadata": {
        "colab": {
          "base_uri": "https://localhost:8080/"
        },
        "id": "9TRF0N3-cDvO",
        "outputId": "6c6b8a7d-1af3-440d-eef9-f43c6d6bc648"
      },
      "execution_count": null,
      "outputs": [
        {
          "output_type": "stream",
          "name": "stdout",
          "text": [
            "(90000, 130000, 108000.0)\n"
          ]
        }
      ]
    },
    {
      "cell_type": "code",
      "source": [
        "job_postings = [\n",
        "    {'title': 'Data Scientist', 'location': 'New York', 'salary': 95000},\n",
        "    {'title': 'Data Analyst', 'location': 'San Francisco', 'salary': 85000},\n",
        "    {'title': 'Machine Learning Engineer', 'location': 'New York', 'salary': 115000}\n",
        "]\n",
        "\n",
        "def job_postings_summary (job_postings):\n",
        "    total_postings = len(job_postings)\n",
        "    total_salary = sum(posting['salary'] for posting in job_postings)\n",
        "    average_salary = total_salary / total_postings\n",
        "    unique_locations = list(set(posting['location'] for posting in job_postings))\n",
        "    return {\n",
        "        'total_postings': total_postings,\n",
        "        'average_salary': average_salary,\n",
        "        'unique_locations': unique_locations\n",
        "    }\n",
        "\n",
        "job_postings_summary(job_postings)\n"
      ],
      "metadata": {
        "colab": {
          "base_uri": "https://localhost:8080/"
        },
        "id": "Z-BxQAbYcw6M",
        "outputId": "024ba4e8-7075-4bb7-c9ee-95bef63bab9a"
      },
      "execution_count": null,
      "outputs": [
        {
          "output_type": "execute_result",
          "data": {
            "text/plain": [
              "{'total_postings': 3,\n",
              " 'average_salary': 98333.33333333333,\n",
              " 'unique_locations': ['New York', 'San Francisco']}"
            ]
          },
          "metadata": {},
          "execution_count": 44
        }
      ]
    },
    {
      "cell_type": "code",
      "source": [
        "salaries = [95000, 120000, 105000, 90000, 130000]\n",
        "avg_salary = lambda salaries_listed: sum(salaries) / len(salaries)\n",
        "print(avg_salary(salaries))"
      ],
      "metadata": {
        "colab": {
          "base_uri": "https://localhost:8080/"
        },
        "id": "1xzAxT3Hec1Z",
        "outputId": "c882f0f9-f040-4517-c005-76182a205acd"
      },
      "execution_count": null,
      "outputs": [
        {
          "output_type": "stream",
          "name": "stdout",
          "text": [
            "108000.0\n"
          ]
        }
      ]
    },
    {
      "cell_type": "code",
      "source": [
        "job_titles = ['Data Scientist', 'Data Engineer', 'Machine Learning Engineer', 'Data Analyst']\n",
        "data_jobs = lambda job: 'Data' in f'{job_titles}'\n",
        "print(data_jobs(job_titles))"
      ],
      "metadata": {
        "colab": {
          "base_uri": "https://localhost:8080/"
        },
        "id": "DuiztTP1-co6",
        "outputId": "5b9bb6b1-0cff-46bf-b65b-0e20b5d6d452"
      },
      "execution_count": null,
      "outputs": [
        {
          "output_type": "stream",
          "name": "stdout",
          "text": [
            "True\n"
          ]
        }
      ]
    },
    {
      "cell_type": "code",
      "source": [
        "job_titles = ['Data Scientist', 'Data Engineer', 'Machine Learning Engineer', 'Data Analyst']\n",
        "'Data' in f'{job_titles}'"
      ],
      "metadata": {
        "colab": {
          "base_uri": "https://localhost:8080/"
        },
        "id": "ZHRO-aLJAq9_",
        "outputId": "6e9f5867-a0de-4d28-f351-ccb846f1555f"
      },
      "execution_count": null,
      "outputs": [
        {
          "output_type": "execute_result",
          "data": {
            "text/plain": [
              "True"
            ]
          },
          "metadata": {},
          "execution_count": 22
        }
      ]
    },
    {
      "cell_type": "code",
      "source": [
        "job_titles = ['Data Scientist', 'Data Engineer', 'Machine Learning Engineer', 'Data Analyst']\n",
        "\n",
        "data_jobs = lambda jobs: [job for job in jobs if 'Data' in job]\n",
        "\n",
        "print(data_jobs(job_titles))"
      ],
      "metadata": {
        "colab": {
          "base_uri": "https://localhost:8080/"
        },
        "id": "ZL_gC8GVCuvB",
        "outputId": "a2c425ca-1363-49f0-edbc-553b6ced4326"
      },
      "execution_count": null,
      "outputs": [
        {
          "output_type": "stream",
          "name": "stdout",
          "text": [
            "['Data Scientist', 'Data Engineer', 'Data Analyst']\n"
          ]
        }
      ]
    },
    {
      "cell_type": "code",
      "source": [
        "job_titles = ['Data Scientist', 'Data Engineer', 'Machine Learning Engineer', 'Data Analyst']\n",
        "\n",
        "def filter_data_jobs(jobs):\n",
        "    return list(filter(lambda job: 'Data' in job, jobs))\n",
        "\n",
        "print(filter_data_jobs(job_titles))"
      ],
      "metadata": {
        "colab": {
          "base_uri": "https://localhost:8080/"
        },
        "id": "ZDdr3JQRHMT8",
        "outputId": "eeae09ae-0862-451b-f3f0-e3a35388103a"
      },
      "execution_count": null,
      "outputs": [
        {
          "output_type": "stream",
          "name": "stdout",
          "text": [
            "['Data Scientist', 'Data Engineer', 'Data Analyst']\n"
          ]
        }
      ]
    },
    {
      "cell_type": "code",
      "source": [
        "def is_data_job(job):\n",
        "  return 'Data' in job\n",
        "\n",
        "job_titles = ['Data Scientist', 'Data Engineer', 'Machine Learning Engineer', 'Data Analyst']\n",
        "data_jobs = list(filter(is_data_job, job_titles))\n",
        "print(data_jobs)"
      ],
      "metadata": {
        "colab": {
          "base_uri": "https://localhost:8080/"
        },
        "id": "2NNONGb9LoYk",
        "outputId": "0f577235-727b-474f-9fce-ef027c0d005d"
      },
      "execution_count": null,
      "outputs": [
        {
          "output_type": "stream",
          "name": "stdout",
          "text": [
            "['Data Scientist', 'Data Engineer', 'Data Analyst']\n"
          ]
        }
      ]
    },
    {
      "cell_type": "code",
      "source": [
        "job_titles = ['Data Scientist', 'Data Engineer', 'Machine Learning Engineer', 'Data Analyst']\n",
        "def filter_data_jobs(jobs):\n",
        "    return list(filter(lambda job: 'Data' in job, jobs))\n",
        "print(filter_data_jobs(job_titles))"
      ],
      "metadata": {
        "colab": {
          "base_uri": "https://localhost:8080/"
        },
        "id": "EsZ69nKTLqf3",
        "outputId": "50eb4b0d-e1d9-4fc4-ef98-66879f0d7c4e"
      },
      "execution_count": null,
      "outputs": [
        {
          "output_type": "stream",
          "name": "stdout",
          "text": [
            "['Data Scientist', 'Data Engineer', 'Data Analyst']\n"
          ]
        }
      ]
    },
    {
      "cell_type": "code",
      "source": [
        "job_titles = ['Data Scientist', 'Data Engineer', 'Machine Learning Engineer', 'Data Analyst']\n",
        "\n",
        "def filter_data_jobs(jobs):\n",
        "    return list(filter(lambda job: 'Data' in job, jobs))\n",
        "\n",
        "print(filter_data_jobs(job_titles))"
      ],
      "metadata": {
        "colab": {
          "base_uri": "https://localhost:8080/"
        },
        "id": "vaC9ewR1Q-yZ",
        "outputId": "8cb9fb06-392f-4532-8913-2026b1657517"
      },
      "execution_count": null,
      "outputs": [
        {
          "output_type": "stream",
          "name": "stdout",
          "text": [
            "['Data Scientist', 'Data Engineer', 'Data Analyst']\n"
          ]
        }
      ]
    },
    {
      "cell_type": "code",
      "source": [
        "job_postings = [\n",
        "    {'title': 'Data Scientist', 'skills': ['Python', 'SQL'], 'remote': True},\n",
        "    {'title': 'Data Analyst', 'skills': ['Excel', 'SQL'], 'remote': False},\n",
        "    {'title': 'Machine Learning Engineer', 'skills': ['Python', 'TensorFlow'], 'remote': True},\n",
        "    {'title': 'Software Developer', 'skills': ['Java', 'C++'], 'remote': True}\n",
        "]\n",
        "\n",
        "filter_criteria = lambda job: 'Python' in job['skills'] and job['remote']\n",
        "python_remote_jobs = list(filter(filter_criteria, job_postings))\n",
        "print(python_remote_jobs)"
      ],
      "metadata": {
        "colab": {
          "base_uri": "https://localhost:8080/"
        },
        "id": "PwM4xsccRDDJ",
        "outputId": "6374d60c-c383-45f7-b3dc-3fa7fefd302d"
      },
      "execution_count": null,
      "outputs": [
        {
          "output_type": "stream",
          "name": "stdout",
          "text": [
            "[{'title': 'Data Scientist', 'skills': ['Python', 'SQL'], 'remote': True}, {'title': 'Machine Learning Engineer', 'skills': ['Python', 'TensorFlow'], 'remote': True}]\n"
          ]
        }
      ]
    },
    {
      "cell_type": "code",
      "source": [
        "job_titles = ['Data Scientist', 'Data Engineer', 'Machine Learning Engineer', 'Data Analyst']\n",
        "\n",
        "def filter_data_jobs(jobs):\n",
        "    return list(filter(lambda job: 'Data' in job, jobs))\n",
        "\n",
        "print(filter_data_jobs(job_titles))"
      ],
      "metadata": {
        "id": "bqU4PJLrV0QF"
      },
      "execution_count": null,
      "outputs": []
    },
    {
      "cell_type": "code",
      "source": [
        "job_titles = ['Data Scientist', 'Data Engineer', 'Machine Learning Engineer', 'Data Analyst']\n",
        "\n",
        "data_jobs =  list(filter(lambda job: 'Data' in job, job_titles))\n",
        "\n",
        "print(data_jobs)"
      ],
      "metadata": {
        "colab": {
          "base_uri": "https://localhost:8080/"
        },
        "id": "b0T7o22fV-aH",
        "outputId": "fc33d51f-1d15-4fff-a8dd-146e5add9ad6"
      },
      "execution_count": null,
      "outputs": [
        {
          "output_type": "stream",
          "name": "stdout",
          "text": [
            "['Data Scientist', 'Data Engineer', 'Data Analyst']\n"
          ]
        }
      ]
    },
    {
      "cell_type": "code",
      "source": [
        "import salary_calculator\n",
        "annual_salary = salary_calculator.calculate_annual_salary(50, 40)\n",
        "print(annual_salary)"
      ],
      "metadata": {
        "colab": {
          "base_uri": "https://localhost:8080/"
        },
        "id": "TI7WaJdmBjqM",
        "outputId": "51b5150b-9839-4bdd-e60c-d7eee2f2e9d5"
      },
      "execution_count": null,
      "outputs": [
        {
          "output_type": "stream",
          "name": "stdout",
          "text": [
            "104000\n"
          ]
        }
      ]
    },
    {
      "cell_type": "code",
      "source": [
        "import job_filter\n",
        "job_postings = [\n",
        "    {'title': 'Data Scientist', 'location': 'New York'},\n",
        "    {'title': 'Data Analyst', 'location': 'San Francisco'},\n",
        "    {'title': 'Machine Learning Engineer', 'location': 'New York'}\n",
        "]\n",
        "location_filter = job_filter.filter_by_location(job_postings, 'New York')\n",
        "print(location_filter)"
      ],
      "metadata": {
        "colab": {
          "base_uri": "https://localhost:8080/"
        },
        "id": "InmHJFmcB0mS",
        "outputId": "363e4e1d-070a-4eb8-9fcd-0b14e96c9018"
      },
      "execution_count": null,
      "outputs": [
        {
          "output_type": "stream",
          "name": "stdout",
          "text": [
            "[{'title': 'Data Scientist', 'location': 'New York'}, {'title': 'Machine Learning Engineer', 'location': 'New York'}]\n"
          ]
        }
      ]
    },
    {
      "cell_type": "code",
      "source": [
        "!pip list"
      ],
      "metadata": {
        "colab": {
          "base_uri": "https://localhost:8080/"
        },
        "id": "UTE9pL_gEXrR",
        "outputId": "e466603f-8318-4c8a-d816-26a3b89373e4"
      },
      "execution_count": null,
      "outputs": [
        {
          "output_type": "stream",
          "name": "stdout",
          "text": [
            "Package                            Version\n",
            "---------------------------------- ------------------\n",
            "absl-py                            1.4.0\n",
            "accelerate                         1.3.0\n",
            "aiohappyeyeballs                   2.5.0\n",
            "aiohttp                            3.11.13\n",
            "aiosignal                          1.3.2\n",
            "alabaster                          1.0.0\n",
            "albucore                           0.0.23\n",
            "albumentations                     2.0.5\n",
            "ale-py                             0.10.2\n",
            "altair                             5.5.0\n",
            "annotated-types                    0.7.0\n",
            "anyio                              3.7.1\n",
            "argon2-cffi                        23.1.0\n",
            "argon2-cffi-bindings               21.2.0\n",
            "array_record                       0.6.0\n",
            "arviz                              0.20.0\n",
            "astropy                            7.0.1\n",
            "astropy-iers-data                  0.2025.3.3.0.34.45\n",
            "astunparse                         1.6.3\n",
            "atpublic                           4.1.0\n",
            "attrs                              25.1.0\n",
            "audioread                          3.0.1\n",
            "autograd                           1.7.0\n",
            "babel                              2.17.0\n",
            "backcall                           0.2.0\n",
            "beautifulsoup4                     4.13.3\n",
            "betterproto                        2.0.0b6\n",
            "bigframes                          1.38.0\n",
            "bigquery-magics                    0.6.0\n",
            "bleach                             6.2.0\n",
            "blinker                            1.9.0\n",
            "blis                               0.7.11\n",
            "blosc2                             3.2.0\n",
            "bokeh                              3.6.3\n",
            "Bottleneck                         1.4.2\n",
            "bqplot                             0.12.44\n",
            "branca                             0.8.1\n",
            "CacheControl                       0.14.2\n",
            "cachetools                         5.5.2\n",
            "catalogue                          2.0.10\n",
            "certifi                            2025.1.31\n",
            "cffi                               1.17.1\n",
            "chardet                            5.2.0\n",
            "charset-normalizer                 3.4.1\n",
            "chex                               0.1.89\n",
            "clarabel                           0.10.0\n",
            "click                              8.1.8\n",
            "cloudpathlib                       0.21.0\n",
            "cloudpickle                        3.1.1\n",
            "cmake                              3.31.6\n",
            "cmdstanpy                          1.2.5\n",
            "colorcet                           3.1.0\n",
            "colorlover                         0.3.0\n",
            "colour                             0.1.5\n",
            "community                          1.0.0b1\n",
            "confection                         0.1.5\n",
            "cons                               0.4.6\n",
            "contourpy                          1.3.1\n",
            "cramjam                            2.9.1\n",
            "cryptography                       43.0.3\n",
            "cuda-python                        12.6.2.post1\n",
            "cudf-cu12                          25.2.1\n",
            "cudf-polars-cu12                   25.2.2\n",
            "cufflinks                          0.17.3\n",
            "cuml-cu12                          25.2.1\n",
            "cupy-cuda12x                       13.3.0\n",
            "cuvs-cu12                          25.2.1\n",
            "cvxopt                             1.3.2\n",
            "cvxpy                              1.6.2\n",
            "cycler                             0.12.1\n",
            "cyipopt                            1.5.0\n",
            "cymem                              2.0.11\n",
            "Cython                             3.0.12\n",
            "dask                               2024.12.1\n",
            "dask-cuda                          25.2.0\n",
            "dask-cudf-cu12                     25.2.2\n",
            "dask-expr                          1.1.21\n",
            "datascience                        0.17.6\n",
            "db-dtypes                          1.4.2\n",
            "dbus-python                        1.2.18\n",
            "debugpy                            1.8.0\n",
            "decorator                          4.4.2\n",
            "defusedxml                         0.7.1\n",
            "Deprecated                         1.2.18\n",
            "diffusers                          0.32.2\n",
            "distributed                        2024.12.1\n",
            "distributed-ucxx-cu12              0.42.0\n",
            "distro                             1.9.0\n",
            "dlib                               19.24.2\n",
            "dm-tree                            0.1.9\n",
            "docker-pycreds                     0.4.0\n",
            "docstring_parser                   0.16\n",
            "docutils                           0.21.2\n",
            "dopamine_rl                        4.1.2\n",
            "duckdb                             1.1.3\n",
            "earthengine-api                    1.5.5\n",
            "easydict                           1.13\n",
            "editdistance                       0.8.1\n",
            "eerepr                             0.1.1\n",
            "einops                             0.8.1\n",
            "en-core-web-sm                     3.7.1\n",
            "entrypoints                        0.4\n",
            "et_xmlfile                         2.0.0\n",
            "etils                              1.12.1\n",
            "etuples                            0.3.9\n",
            "Farama-Notifications               0.0.4\n",
            "fastai                             2.7.18\n",
            "fastcore                           1.7.29\n",
            "fastdownload                       0.0.7\n",
            "fastjsonschema                     2.21.1\n",
            "fastprogress                       1.0.3\n",
            "fastrlock                          0.8.3\n",
            "filelock                           3.17.0\n",
            "firebase-admin                     6.6.0\n",
            "Flask                              3.1.0\n",
            "flatbuffers                        25.2.10\n",
            "flax                               0.10.4\n",
            "folium                             0.19.5\n",
            "fonttools                          4.56.0\n",
            "frozendict                         2.4.6\n",
            "frozenlist                         1.5.0\n",
            "fsspec                             2024.10.0\n",
            "future                             1.0.0\n",
            "gast                               0.6.0\n",
            "gcsfs                              2024.10.0\n",
            "GDAL                               3.6.4\n",
            "gdown                              5.2.0\n",
            "geemap                             0.35.3\n",
            "geocoder                           1.38.1\n",
            "geographiclib                      2.0\n",
            "geopandas                          1.0.1\n",
            "geopy                              2.4.1\n",
            "gin-config                         0.5.0\n",
            "gitdb                              4.0.12\n",
            "GitPython                          3.1.44\n",
            "glob2                              0.7\n",
            "google                             2.0.3\n",
            "google-ai-generativelanguage       0.6.15\n",
            "google-api-core                    2.24.1\n",
            "google-api-python-client           2.160.0\n",
            "google-auth                        2.38.0\n",
            "google-auth-httplib2               0.2.0\n",
            "google-auth-oauthlib               1.2.1\n",
            "google-cloud-aiplatform            1.79.0\n",
            "google-cloud-bigquery              3.29.0\n",
            "google-cloud-bigquery-connection   1.18.1\n",
            "google-cloud-bigquery-storage      2.28.0\n",
            "google-cloud-bigtable              2.29.0\n",
            "google-cloud-core                  2.4.2\n",
            "google-cloud-dataproc              5.18.0\n",
            "google-cloud-datastore             2.20.2\n",
            "google-cloud-firestore             2.20.1\n",
            "google-cloud-functions             1.19.0\n",
            "google-cloud-iam                   2.18.1\n",
            "google-cloud-language              2.16.0\n",
            "google-cloud-pubsub                2.25.0\n",
            "google-cloud-resource-manager      1.14.1\n",
            "google-cloud-spanner               3.52.0\n",
            "google-cloud-storage               2.19.0\n",
            "google-cloud-translate             3.19.0\n",
            "google-colab                       1.0.0\n",
            "google-crc32c                      1.6.0\n",
            "google-genai                       1.4.0\n",
            "google-generativeai                0.8.4\n",
            "google-pasta                       0.2.0\n",
            "google-resumable-media             2.7.2\n",
            "google-spark-connect               0.5.3\n",
            "googleapis-common-protos           1.69.1\n",
            "googledrivedownloader              1.1.0\n",
            "graphviz                           0.20.3\n",
            "greenlet                           3.1.1\n",
            "grpc-google-iam-v1                 0.14.1\n",
            "grpc-interceptor                   0.15.4\n",
            "grpcio                             1.70.0\n",
            "grpcio-status                      1.62.3\n",
            "grpclib                            0.4.7\n",
            "gspread                            6.1.4\n",
            "gspread-dataframe                  4.0.0\n",
            "gym                                0.25.2\n",
            "gym-notices                        0.0.8\n",
            "gymnasium                          1.1.1\n",
            "h11                                0.14.0\n",
            "h2                                 4.2.0\n",
            "h5netcdf                           1.6.1\n",
            "h5py                               3.12.1\n",
            "hdbscan                            0.8.40\n",
            "highspy                            1.9.0\n",
            "holidays                           0.68\n",
            "holoviews                          1.20.1\n",
            "hpack                              4.1.0\n",
            "html5lib                           1.1\n",
            "httpcore                           1.0.7\n",
            "httpimport                         1.4.1\n",
            "httplib2                           0.22.0\n",
            "httpx                              0.28.1\n",
            "huggingface-hub                    0.28.1\n",
            "humanize                           4.11.0\n",
            "hyperframe                         6.1.0\n",
            "hyperopt                           0.2.7\n",
            "ibis-framework                     9.2.0\n",
            "idna                               3.10\n",
            "imageio                            2.37.0\n",
            "imageio-ffmpeg                     0.6.0\n",
            "imagesize                          1.4.1\n",
            "imbalanced-learn                   0.13.0\n",
            "imgaug                             0.4.0\n",
            "immutabledict                      4.2.1\n",
            "importlib_metadata                 8.6.1\n",
            "importlib_resources                6.5.2\n",
            "imutils                            0.5.4\n",
            "inflect                            7.5.0\n",
            "iniconfig                          2.0.0\n",
            "intel-cmplr-lib-ur                 2025.0.5\n",
            "intel-openmp                       2025.0.5\n",
            "ipyevents                          2.0.2\n",
            "ipyfilechooser                     0.6.0\n",
            "ipykernel                          6.17.1\n",
            "ipyleaflet                         0.19.2\n",
            "ipyparallel                        8.8.0\n",
            "ipython                            7.34.0\n",
            "ipython-genutils                   0.2.0\n",
            "ipython-sql                        0.5.0\n",
            "ipytree                            0.2.2\n",
            "ipywidgets                         7.7.1\n",
            "itsdangerous                       2.2.0\n",
            "jax                                0.5.2\n",
            "jax-cuda12-pjrt                    0.5.1\n",
            "jax-cuda12-plugin                  0.5.1\n",
            "jaxlib                             0.5.1\n",
            "jeepney                            0.7.1\n",
            "jellyfish                          1.1.0\n",
            "jieba                              0.42.1\n",
            "Jinja2                             3.1.6\n",
            "jiter                              0.8.2\n",
            "joblib                             1.4.2\n",
            "jsonpatch                          1.33\n",
            "jsonpickle                         4.0.2\n",
            "jsonpointer                        3.0.0\n",
            "jsonschema                         4.23.0\n",
            "jsonschema-specifications          2024.10.1\n",
            "jupyter-client                     6.1.12\n",
            "jupyter-console                    6.1.0\n",
            "jupyter_core                       5.7.2\n",
            "jupyter-leaflet                    0.19.2\n",
            "jupyter-server                     1.24.0\n",
            "jupyterlab_pygments                0.3.0\n",
            "jupyterlab_widgets                 3.0.13\n",
            "kaggle                             1.6.17\n",
            "kagglehub                          0.3.10\n",
            "keras                              3.8.0\n",
            "keras-hub                          0.18.1\n",
            "keras-nlp                          0.18.1\n",
            "keyring                            23.5.0\n",
            "kiwisolver                         1.4.8\n",
            "langchain                          0.3.20\n",
            "langchain-core                     0.3.43\n",
            "langchain-text-splitters           0.3.6\n",
            "langcodes                          3.5.0\n",
            "langsmith                          0.3.13\n",
            "language_data                      1.3.0\n",
            "launchpadlib                       1.10.16\n",
            "lazr.restfulclient                 0.14.4\n",
            "lazr.uri                           1.0.6\n",
            "lazy_loader                        0.4\n",
            "libclang                           18.1.1\n",
            "libcudf-cu12                       25.2.1\n",
            "libcugraph-cu12                    25.2.0\n",
            "libcuml-cu12                       25.2.1\n",
            "libcuvs-cu12                       25.2.1\n",
            "libkvikio-cu12                     25.2.1\n",
            "libraft-cu12                       25.2.0\n",
            "librosa                            0.10.2.post1\n",
            "libucx-cu12                        1.18.0\n",
            "libucxx-cu12                       0.42.0\n",
            "lightgbm                           4.5.0\n",
            "linkify-it-py                      2.0.3\n",
            "llvmlite                           0.43.0\n",
            "locket                             1.0.0\n",
            "logical-unification                0.4.6\n",
            "lxml                               5.3.1\n",
            "marisa-trie                        1.2.1\n",
            "Markdown                           3.7\n",
            "markdown-it-py                     3.0.0\n",
            "MarkupSafe                         3.0.2\n",
            "matplotlib                         3.10.0\n",
            "matplotlib-inline                  0.1.7\n",
            "matplotlib-venn                    1.1.2\n",
            "mdit-py-plugins                    0.4.2\n",
            "mdurl                              0.1.2\n",
            "miniKanren                         1.0.3\n",
            "missingno                          0.5.2\n",
            "mistune                            3.1.2\n",
            "mizani                             0.13.1\n",
            "mkl                                2025.0.1\n",
            "ml-dtypes                          0.4.1\n",
            "mlxtend                            0.23.4\n",
            "more-itertools                     10.6.0\n",
            "moviepy                            1.0.3\n",
            "mpmath                             1.3.0\n",
            "msgpack                            1.1.0\n",
            "multidict                          6.1.0\n",
            "multipledispatch                   1.0.0\n",
            "multitasking                       0.0.11\n",
            "murmurhash                         1.0.12\n",
            "music21                            9.3.0\n",
            "namex                              0.0.8\n",
            "narwhals                           1.29.1\n",
            "natsort                            8.4.0\n",
            "nbclassic                          1.2.0\n",
            "nbclient                           0.10.2\n",
            "nbconvert                          7.16.6\n",
            "nbformat                           5.10.4\n",
            "ndindex                            1.9.2\n",
            "nest-asyncio                       1.6.0\n",
            "networkx                           3.4.2\n",
            "nibabel                            5.3.2\n",
            "nltk                               3.9.1\n",
            "notebook                           6.5.5\n",
            "notebook_shim                      0.2.4\n",
            "numba                              0.60.0\n",
            "numba-cuda                         0.2.0\n",
            "numexpr                            2.10.2\n",
            "numpy                              1.26.4\n",
            "nvidia-cublas-cu12                 12.5.3.2\n",
            "nvidia-cuda-cupti-cu12             12.5.82\n",
            "nvidia-cuda-nvcc-cu12              12.5.82\n",
            "nvidia-cuda-nvrtc-cu12             12.5.82\n",
            "nvidia-cuda-runtime-cu12           12.5.82\n",
            "nvidia-cudnn-cu12                  9.3.0.75\n",
            "nvidia-cufft-cu12                  11.2.3.61\n",
            "nvidia-curand-cu12                 10.3.6.82\n",
            "nvidia-cusolver-cu12               11.6.3.83\n",
            "nvidia-cusparse-cu12               12.5.1.3\n",
            "nvidia-ml-py                       12.570.86\n",
            "nvidia-nccl-cu12                   2.21.5\n",
            "nvidia-nvcomp-cu12                 4.2.0.11\n",
            "nvidia-nvjitlink-cu12              12.5.82\n",
            "nvidia-nvtx-cu12                   12.4.127\n",
            "nvtx                               0.2.11\n",
            "nx-cugraph-cu12                    25.2.0\n",
            "oauth2client                       4.1.3\n",
            "oauthlib                           3.2.2\n",
            "openai                             1.61.1\n",
            "opencv-contrib-python              4.11.0.86\n",
            "opencv-python                      4.11.0.86\n",
            "opencv-python-headless             4.11.0.86\n",
            "openpyxl                           3.1.5\n",
            "opentelemetry-api                  1.16.0\n",
            "opentelemetry-sdk                  1.16.0\n",
            "opentelemetry-semantic-conventions 0.37b0\n",
            "opt_einsum                         3.4.0\n",
            "optax                              0.2.4\n",
            "optree                             0.14.1\n",
            "orbax-checkpoint                   0.11.8\n",
            "orjson                             3.10.15\n",
            "osqp                               0.6.7.post3\n",
            "packaging                          24.2\n",
            "pandas                             2.2.2\n",
            "pandas-datareader                  0.10.0\n",
            "pandas-gbq                         0.28.0\n",
            "pandas-stubs                       2.2.2.240909\n",
            "pandocfilters                      1.5.1\n",
            "panel                              1.6.1\n",
            "param                              2.2.0\n",
            "parso                              0.8.4\n",
            "parsy                              2.1\n",
            "partd                              1.4.2\n",
            "pathlib                            1.0.1\n",
            "patsy                              1.0.1\n",
            "peewee                             3.17.9\n",
            "peft                               0.14.0\n",
            "pexpect                            4.9.0\n",
            "pickleshare                        0.7.5\n",
            "pillow                             11.1.0\n",
            "pip                                24.1.2\n",
            "platformdirs                       4.3.6\n",
            "plotly                             5.24.1\n",
            "plotnine                           0.14.5\n",
            "pluggy                             1.5.0\n",
            "ply                                3.11\n",
            "polars                             1.21.0\n",
            "pooch                              1.8.2\n",
            "portpicker                         1.5.2\n",
            "preshed                            3.0.9\n",
            "prettytable                        3.15.1\n",
            "proglog                            0.1.10\n",
            "progressbar2                       4.5.0\n",
            "prometheus_client                  0.21.1\n",
            "promise                            2.3\n",
            "prompt_toolkit                     3.0.50\n",
            "propcache                          0.3.0\n",
            "prophet                            1.1.6\n",
            "proto-plus                         1.26.0\n",
            "protobuf                           4.25.6\n",
            "psutil                             5.9.5\n",
            "psycopg2                           2.9.10\n",
            "ptyprocess                         0.7.0\n",
            "py-cpuinfo                         9.0.0\n",
            "py4j                               0.10.9.7\n",
            "pyarrow                            18.1.0\n",
            "pyasn1                             0.6.1\n",
            "pyasn1_modules                     0.4.1\n",
            "pycocotools                        2.0.8\n",
            "pycparser                          2.22\n",
            "pydantic                           2.10.6\n",
            "pydantic_core                      2.27.2\n",
            "pydata-google-auth                 1.9.1\n",
            "pydot                              3.0.4\n",
            "pydotplus                          2.0.2\n",
            "PyDrive                            1.3.1\n",
            "PyDrive2                           1.21.3\n",
            "pyerfa                             2.0.1.5\n",
            "pygame                             2.6.1\n",
            "pygit2                             1.17.0\n",
            "Pygments                           2.18.0\n",
            "PyGObject                          3.42.1\n",
            "PyJWT                              2.10.1\n",
            "pylibcudf-cu12                     25.2.1\n",
            "pylibcugraph-cu12                  25.2.0\n",
            "pylibraft-cu12                     25.2.0\n",
            "pymc                               5.20.1\n",
            "pymystem3                          0.2.0\n",
            "pynndescent                        0.5.13\n",
            "pynvjitlink-cu12                   0.5.1\n",
            "pynvml                             12.0.0\n",
            "pyogrio                            0.10.0\n",
            "Pyomo                              6.8.2\n",
            "PyOpenGL                           3.1.9\n",
            "pyOpenSSL                          24.2.1\n",
            "pyparsing                          3.2.1\n",
            "pyperclip                          1.9.0\n",
            "pyproj                             3.7.1\n",
            "pyshp                              2.3.1\n",
            "PySocks                            1.7.1\n",
            "pyspark                            3.5.5\n",
            "pytensor                           2.27.1\n",
            "pytest                             8.3.5\n",
            "python-apt                         0.0.0\n",
            "python-box                         7.3.2\n",
            "python-dateutil                    2.8.2\n",
            "python-louvain                     0.16\n",
            "python-slugify                     8.0.4\n",
            "python-snappy                      0.7.3\n",
            "python-utils                       3.9.1\n",
            "pytz                               2025.1\n",
            "pyviz_comms                        3.0.4\n",
            "PyYAML                             6.0.2\n",
            "pyzmq                              24.0.1\n",
            "qdldl                              0.1.7.post5\n",
            "raft-dask-cu12                     25.2.0\n",
            "rapids-dask-dependency             25.2.0\n",
            "ratelim                            0.1.6\n",
            "referencing                        0.36.2\n",
            "regex                              2024.11.6\n",
            "requests                           2.32.3\n",
            "requests-oauthlib                  2.0.0\n",
            "requests-toolbelt                  1.0.0\n",
            "requirements-parser                0.9.0\n",
            "rich                               13.9.4\n",
            "rmm-cu12                           25.2.0\n",
            "rpds-py                            0.23.1\n",
            "rpy2                               3.5.17\n",
            "rsa                                4.9\n",
            "safetensors                        0.5.3\n",
            "scikit-image                       0.25.2\n",
            "scikit-learn                       1.6.1\n",
            "scipy                              1.14.1\n",
            "scooby                             0.10.0\n",
            "scs                                3.2.7.post2\n",
            "seaborn                            0.13.2\n",
            "SecretStorage                      3.3.1\n",
            "Send2Trash                         1.8.3\n",
            "sentence-transformers              3.4.1\n",
            "sentencepiece                      0.2.0\n",
            "sentry-sdk                         2.22.0\n",
            "setproctitle                       1.3.5\n",
            "setuptools                         75.1.0\n",
            "shap                               0.46.0\n",
            "shapely                            2.0.7\n",
            "shellingham                        1.5.4\n",
            "simple-parsing                     0.1.7\n",
            "simplejson                         3.20.1\n",
            "simsimd                            6.2.1\n",
            "six                                1.17.0\n",
            "sklearn-compat                     0.1.3\n",
            "sklearn-pandas                     2.2.0\n",
            "slicer                             0.0.8\n",
            "smart-open                         7.1.0\n",
            "smmap                              5.0.2\n",
            "sniffio                            1.3.1\n",
            "snowballstemmer                    2.2.0\n",
            "sortedcontainers                   2.4.0\n",
            "soundfile                          0.13.1\n",
            "soupsieve                          2.6\n",
            "soxr                               0.5.0.post1\n",
            "spacy                              3.7.5\n",
            "spacy-legacy                       3.0.12\n",
            "spacy-loggers                      1.0.5\n",
            "spanner-graph-notebook             1.1.2\n",
            "Sphinx                             8.1.3\n",
            "sphinxcontrib-applehelp            2.0.0\n",
            "sphinxcontrib-devhelp              2.0.0\n",
            "sphinxcontrib-htmlhelp             2.1.0\n",
            "sphinxcontrib-jsmath               1.0.1\n",
            "sphinxcontrib-qthelp               2.0.0\n",
            "sphinxcontrib-serializinghtml      2.0.0\n",
            "SQLAlchemy                         2.0.38\n",
            "sqlglot                            25.6.1\n",
            "sqlparse                           0.5.3\n",
            "srsly                              2.5.1\n",
            "stanio                             0.5.1\n",
            "statsmodels                        0.14.4\n",
            "stringzilla                        3.12.2\n",
            "sympy                              1.13.1\n",
            "tables                             3.10.2\n",
            "tabulate                           0.9.0\n",
            "tbb                                2022.0.0\n",
            "tblib                              3.0.0\n",
            "tcmlib                             1.2.0\n",
            "tenacity                           9.0.0\n",
            "tensorboard                        2.18.0\n",
            "tensorboard-data-server            0.7.2\n",
            "tensorflow                         2.18.0\n",
            "tensorflow-datasets                4.9.7\n",
            "tensorflow-hub                     0.16.1\n",
            "tensorflow-io-gcs-filesystem       0.37.1\n",
            "tensorflow-metadata                1.16.1\n",
            "tensorflow-probability             0.25.0\n",
            "tensorflow-text                    2.18.1\n",
            "tensorstore                        0.1.72\n",
            "termcolor                          2.5.0\n",
            "terminado                          0.18.1\n",
            "text-unidecode                     1.3\n",
            "textblob                           0.19.0\n",
            "tf_keras                           2.18.0\n",
            "tf-slim                            1.1.0\n",
            "thinc                              8.2.5\n",
            "threadpoolctl                      3.5.0\n",
            "tifffile                           2025.2.18\n",
            "timm                               1.0.15\n",
            "tinycss2                           1.4.0\n",
            "tokenizers                         0.21.0\n",
            "toml                               0.10.2\n",
            "toolz                              0.12.1\n",
            "torch                              2.5.1+cu124\n",
            "torchaudio                         2.5.1+cu124\n",
            "torchsummary                       1.5.1\n",
            "torchvision                        0.20.1+cu124\n",
            "tornado                            6.4.2\n",
            "tqdm                               4.67.1\n",
            "traitlets                          5.7.1\n",
            "traittypes                         0.2.1\n",
            "transformers                       4.48.3\n",
            "treelite                           4.4.1\n",
            "treescope                          0.1.9\n",
            "triton                             3.1.0\n",
            "tweepy                             4.15.0\n",
            "typeguard                          4.4.2\n",
            "typer                              0.15.2\n",
            "types-pytz                         2025.1.0.20250204\n",
            "types-setuptools                   75.8.2.20250305\n",
            "typing_extensions                  4.12.2\n",
            "tzdata                             2025.1\n",
            "tzlocal                            5.3.1\n",
            "uc-micro-py                        1.0.3\n",
            "ucx-py-cu12                        0.42.0\n",
            "ucxx-cu12                          0.42.0\n",
            "umap-learn                         0.5.7\n",
            "umf                                0.9.1\n",
            "uritemplate                        4.1.1\n",
            "urllib3                            2.3.0\n",
            "vega-datasets                      0.9.0\n",
            "wadllib                            1.3.6\n",
            "wandb                              0.19.8\n",
            "wasabi                             1.1.3\n",
            "wcwidth                            0.2.13\n",
            "weasel                             0.4.1\n",
            "webcolors                          24.11.1\n",
            "webencodings                       0.5.1\n",
            "websocket-client                   1.8.0\n",
            "websockets                         14.2\n",
            "Werkzeug                           3.1.3\n",
            "wheel                              0.45.1\n",
            "widgetsnbextension                 3.6.10\n",
            "wordcloud                          1.9.4\n",
            "wrapt                              1.17.2\n",
            "xarray                             2025.1.2\n",
            "xarray-einstats                    0.8.0\n",
            "xgboost                            2.1.4\n",
            "xlrd                               2.0.1\n",
            "xyzservices                        2025.1.0\n",
            "yarl                               1.18.3\n",
            "yellowbrick                        1.5\n",
            "yfinance                           0.2.54\n",
            "zict                               3.0.0\n",
            "zipp                               3.21.0\n",
            "zstandard                          0.23.0\n"
          ]
        }
      ]
    },
    {
      "cell_type": "code",
      "source": [
        "job_titles = ['Data Scientist', 'Data Analyst', 'Machine Learning Engineer']\n",
        "job_titles[1]= 'AI Specialist'\n",
        "print(job_titles)"
      ],
      "metadata": {
        "colab": {
          "base_uri": "https://localhost:8080/"
        },
        "id": "JgxP6JHLhrVP",
        "outputId": "18ee7e56-e0be-420a-cb0b-db9e21a040d0"
      },
      "execution_count": null,
      "outputs": [
        {
          "output_type": "stream",
          "name": "stdout",
          "text": [
            "['Data Scientist', 'AI Specialist', 'Machine Learning Engineer']\n"
          ]
        }
      ]
    },
    {
      "cell_type": "code",
      "source": [
        "job_titles = ['Data Scientist', 'Data Analyst', 'Machine Learning Engineer', 'Data Engineer']\n",
        "print(job_titles[:2])"
      ],
      "metadata": {
        "colab": {
          "base_uri": "https://localhost:8080/"
        },
        "id": "VzdpR-EUh1gE",
        "outputId": "ff7df981-b7aa-4445-e57b-8ac0bdcea100"
      },
      "execution_count": null,
      "outputs": [
        {
          "output_type": "stream",
          "name": "stdout",
          "text": [
            "['Data Scientist', 'Data Analyst']\n"
          ]
        }
      ]
    },
    {
      "cell_type": "code",
      "source": [
        "job_postings = {'Data Scientist': 120, 'Data Analyst': 80, 'Machine Learning Engineer': 50}\n",
        "print(job_postings.values())"
      ],
      "metadata": {
        "colab": {
          "base_uri": "https://localhost:8080/"
        },
        "id": "n6lRBLF6jG-O",
        "outputId": "ff0bc427-607d-4190-b09f-0399f7eead94"
      },
      "execution_count": null,
      "outputs": [
        {
          "output_type": "stream",
          "name": "stdout",
          "text": [
            "dict_values([120, 80, 50])\n"
          ]
        }
      ]
    },
    {
      "cell_type": "code",
      "source": [
        "job_postings = {'Data Scientist': 120, 'Data Analyst': 80, 'Machine Learning Engineer': 50}\n",
        "print(job_postings['Data Analyst'])"
      ],
      "metadata": {
        "colab": {
          "base_uri": "https://localhost:8080/"
        },
        "id": "IO18x0dVkYbg",
        "outputId": "99c23f01-7bc2-41fd-9f56-63ff4bcdc385"
      },
      "execution_count": null,
      "outputs": [
        {
          "output_type": "stream",
          "name": "stdout",
          "text": [
            "80\n"
          ]
        }
      ]
    },
    {
      "cell_type": "code",
      "source": [
        "job_postings = {'Data Scientist': 120, 'Data Analyst': 80, 'Machine Learning Engineer': 50}\n",
        "value_to_find = 80\n",
        "if value_to_find in job_postings.values():\n",
        "    print(f\"The value {value_to_find} exists in the dictionary.\")\n",
        "else:\n",
        "    print(f\"The value {value_to_find} does not exist in the dictionary.\")"
      ],
      "metadata": {
        "colab": {
          "base_uri": "https://localhost:8080/"
        },
        "id": "_Bf0AvPbl2N2",
        "outputId": "1687dabc-a454-426c-b9d3-cf65d819d748"
      },
      "execution_count": null,
      "outputs": [
        {
          "output_type": "stream",
          "name": "stdout",
          "text": [
            "The value 80 exists in the dictionary.\n"
          ]
        }
      ]
    },
    {
      "cell_type": "code",
      "source": [
        "job_postings = {'Data Scientist': 120, 'Data Analyst': 80, 'Machine Learning Engineer': 50}\n",
        "\n",
        "value_to_find = 80\n",
        "found_job_title = None\n",
        "\n",
        "for job_title, count in job_postings.items():\n",
        "    if count == value_to_find:\n",
        "        found_job_title = job_title\n",
        "        break\n",
        "\n",
        "if found_job_title:\n",
        "    print(found_job_title)\n",
        "else:\n",
        "    print(f\"No job title found for value {value_to_find}\")"
      ],
      "metadata": {
        "colab": {
          "base_uri": "https://localhost:8080/"
        },
        "id": "Gm-qlo0GmuXp",
        "outputId": "ffda924d-f590-4315-9df5-90d4a296afde"
      },
      "execution_count": null,
      "outputs": [
        {
          "output_type": "stream",
          "name": "stdout",
          "text": [
            "Data Analyst\n"
          ]
        }
      ]
    },
    {
      "cell_type": "code",
      "source": [
        "job_postings = {'Data Scientist': 120, 'Data Analyst': 80, 'Machine Learning Engineer': 50}\n",
        "\n",
        "desired_value = 80\n",
        "desired_job_title = None\n",
        "\n",
        "for job_title, count in job_postings.items():\n",
        "    if count == desired_value:\n",
        "        desired_job_title = job_title\n",
        "        break\n",
        "\n",
        "\n",
        "if desired_job_title:\n",
        "  print(desired_job_title)\n",
        "else:\n",
        "  print(f\"No job title found for value {desired_value}\")\n",
        "\n"
      ],
      "metadata": {
        "colab": {
          "base_uri": "https://localhost:8080/"
        },
        "id": "T9yFq-rcmztY",
        "outputId": "445c4d11-269c-47a7-802d-9a775d3031d4"
      },
      "execution_count": null,
      "outputs": [
        {
          "output_type": "stream",
          "name": "stdout",
          "text": [
            "Data Analyst\n"
          ]
        }
      ]
    },
    {
      "cell_type": "code",
      "source": [
        "job_postings = {'Data Scientist': 120, 'Data Analyst': 80, 'Machine Learning Engineer': 50}\n",
        "job_postings['AI Specialist'] = 30\n",
        "print(job_postings)"
      ],
      "metadata": {
        "colab": {
          "base_uri": "https://localhost:8080/"
        },
        "id": "SEHHOWMxpv_Q",
        "outputId": "d32ad894-e648-43ad-8650-21f0c7d93749"
      },
      "execution_count": null,
      "outputs": [
        {
          "output_type": "stream",
          "name": "stdout",
          "text": [
            "{'Data Scientist': 120, 'Data Analyst': 80, 'Machine Learning Engineer': 50, 'AI Specialist': 30}\n"
          ]
        }
      ]
    },
    {
      "cell_type": "code",
      "source": [
        "job_postings = {'Data Scientist': 120, 'Data Analyst': 80, 'Machine Learning Engineer': 50}\n",
        "job_postings.update({'AI Specialist': 30, 'Data Engineer': 40})\n",
        "print(job_postings)"
      ],
      "metadata": {
        "colab": {
          "base_uri": "https://localhost:8080/"
        },
        "id": "QPq-rnetp6Y0",
        "outputId": "bc4e095c-15a5-4c93-be07-0ffcc44decc5"
      },
      "execution_count": null,
      "outputs": [
        {
          "output_type": "stream",
          "name": "stdout",
          "text": [
            "{'Data Scientist': 120, 'Data Analyst': 80, 'Machine Learning Engineer': 50, 'AI Specialist': 30, 'Data Engineer': 40}\n"
          ]
        }
      ]
    },
    {
      "cell_type": "code",
      "source": [
        "job_postings = {'Data Scientist': 120, 'Data Analyst': 80, 'Machine Learning Engineer': 50}\n",
        "job_postings.pop('Machine Learning Engineer')\n",
        "print(job_postings)"
      ],
      "metadata": {
        "colab": {
          "base_uri": "https://localhost:8080/"
        },
        "id": "aUmGQx0Hq3nH",
        "outputId": "04bc3b3e-3e48-496f-b257-aedba4d24651"
      },
      "execution_count": null,
      "outputs": [
        {
          "output_type": "stream",
          "name": "stdout",
          "text": [
            "{'Data Scientist': 120, 'Data Analyst': 80}\n"
          ]
        }
      ]
    },
    {
      "cell_type": "code",
      "source": [
        "job_postings1 = {'Data Scientist': 120, 'Data Analyst': 80}\n",
        "job_postings2 = {'Machine Learning Engineer': 50, 'AI Specialist': 30}\n",
        "job_postings1.update(job_postings2)\n",
        "print(job_postings1)"
      ],
      "metadata": {
        "colab": {
          "base_uri": "https://localhost:8080/"
        },
        "id": "kRobdgVNr8WT",
        "outputId": "54e832d1-47d3-49d8-bdac-1033d1f81e9d"
      },
      "execution_count": null,
      "outputs": [
        {
          "output_type": "stream",
          "name": "stdout",
          "text": [
            "{'Data Scientist': 120, 'Data Analyst': 80, 'Machine Learning Engineer': 50, 'AI Specialist': 30}\n"
          ]
        }
      ]
    },
    {
      "cell_type": "code",
      "source": [
        "# Create a nested dictionary job_details where each key is a job role and the value is another dictionary containing 'postings' and 'average_salary'.\n",
        "# The details for each are: 'Data Scientist' has 120 postings and an average salary of 120000; 'Data Analyst' has 80 postings and an average salary of 80000; Machine Learning Engineer has 50 postings and average salary of 110000.\n",
        "# Print the nested dictionary.\n",
        "\n",
        "job_details = {'Data Scientist': {'postings': 120, 'average_salary': 120000},\n",
        "                'Data Analyst': {'postings': 80, 'average_salary': 80000},\n",
        "                'Machine Learning Engineer': {'postings': 50, 'average_salary': 110000}}\n",
        "print(job_details)\n"
      ],
      "metadata": {
        "colab": {
          "base_uri": "https://localhost:8080/"
        },
        "id": "lQlQZIUesg0v",
        "outputId": "6c2c134f-9a1e-43f4-be89-383f759857f7"
      },
      "execution_count": null,
      "outputs": [
        {
          "output_type": "stream",
          "name": "stdout",
          "text": [
            "{'Data Scientist': {'postings': 120, 'average_salary': 120000}, 'Data Analyst': {'postings': 80, 'average_salary': 80000}, 'Machine Learning Engineer': {'postings': 50, 'average_salary': 110000}}\n"
          ]
        }
      ]
    },
    {
      "cell_type": "code",
      "source": [
        "skills_set1 = {'Python', 'SQL', 'Tableau'}\n",
        "skills_set2 = {'R', 'SQL', 'Machine Learning'}\n",
        "all_skills = skills_set1.union(skills_set2)\n",
        "print(all_skills)"
      ],
      "metadata": {
        "colab": {
          "base_uri": "https://localhost:8080/"
        },
        "id": "VhMKBPa7tnY1",
        "outputId": "49fdffe7-1cdb-4467-c1ce-f60571b0a224"
      },
      "execution_count": null,
      "outputs": [
        {
          "output_type": "stream",
          "name": "stdout",
          "text": [
            "{'SQL', 'R', 'Python', 'Tableau', 'Machine Learning'}\n"
          ]
        }
      ]
    },
    {
      "cell_type": "code",
      "source": [
        "skills_set1 = {'Python', 'SQL', 'Tableau'}\n",
        "skills_set2 = {'R', 'SQL', 'Machine Learning'}\n",
        "print(skills_set1.union(skills_set2))"
      ],
      "metadata": {
        "colab": {
          "base_uri": "https://localhost:8080/"
        },
        "id": "i0BmIQBQu_Ht",
        "outputId": "afce07d0-3f76-4fd0-8795-e45138c40d06"
      },
      "execution_count": null,
      "outputs": [
        {
          "output_type": "stream",
          "name": "stdout",
          "text": [
            "{'SQL', 'R', 'Python', 'Tableau', 'Machine Learning'}\n"
          ]
        }
      ]
    },
    {
      "cell_type": "code",
      "source": [
        "job_details = (('Data Scientist', 120), ('Data Analyst', 80), ('Machine Learning Engineer', 50))\n",
        "print(job_details[2][1])"
      ],
      "metadata": {
        "colab": {
          "base_uri": "https://localhost:8080/"
        },
        "id": "Se9KrhQmvGI5",
        "outputId": "bb0b2d80-b0dc-4a62-ef73-8d03c981afd9"
      },
      "execution_count": null,
      "outputs": [
        {
          "output_type": "stream",
          "name": "stdout",
          "text": [
            "50\n"
          ]
        }
      ]
    },
    {
      "cell_type": "code",
      "source": [
        "job_postings = [5, 10, 15, 20, 25]\n",
        "total_job_postings = sum(job_postings)\n",
        "print(total_job_postings)"
      ],
      "metadata": {
        "colab": {
          "base_uri": "https://localhost:8080/"
        },
        "id": "okfoc-Mm1BUw",
        "outputId": "5f04df2e-00cf-4d3b-bef3-4ad3aafa92c6"
      },
      "execution_count": null,
      "outputs": [
        {
          "output_type": "stream",
          "name": "stdout",
          "text": [
            "75\n"
          ]
        }
      ]
    },
    {
      "cell_type": "code",
      "source": [
        "job_postings = [5, 10, 15, 20, 25]\n",
        "total_job_postings = 0\n",
        "index = 0\n",
        "while index < len(job_postings):\n",
        "  total_job_postings += job_postings[index]\n",
        "  index += 1\n",
        "print(total_job_postings)"
      ],
      "metadata": {
        "colab": {
          "base_uri": "https://localhost:8080/"
        },
        "id": "I8xHyD9l1JT4",
        "outputId": "4e31b383-64ae-4b26-8114-1ab5c0687ae7"
      },
      "execution_count": null,
      "outputs": [
        {
          "output_type": "stream",
          "name": "stdout",
          "text": [
            "75\n"
          ]
        }
      ]
    },
    {
      "cell_type": "code",
      "source": [
        "job_postings = [5, 10, 15, 20, 25]\n",
        "total_postings = 0\n",
        "count = 0\n",
        "while count < len(job_postings):\n",
        "  total_postings += job_postings[count]\n",
        "  count += 1\n",
        "print(total_postings)\n"
      ],
      "metadata": {
        "colab": {
          "base_uri": "https://localhost:8080/"
        },
        "id": "s_ffSqwa1M7N",
        "outputId": "4474e4c9-40f8-41ac-f276-6f5d9a1f24c1"
      },
      "execution_count": null,
      "outputs": [
        {
          "output_type": "stream",
          "name": "stdout",
          "text": [
            "75\n"
          ]
        }
      ]
    },
    {
      "cell_type": "code",
      "source": [
        "job_postings = [5, 10, 15, 20, 25]\n",
        "total_job_postings = 0\n",
        "index = 0\n",
        "while index < len(job_postings):\n",
        "  total_job_postings += job_postings[index]\n",
        "  index += 1\n",
        "print(total_job_postings)"
      ],
      "metadata": {
        "colab": {
          "base_uri": "https://localhost:8080/"
        },
        "id": "I66CdlLh49Pv",
        "outputId": "b709ebfd-e99e-463e-bc22-880db6109147"
      },
      "execution_count": null,
      "outputs": [
        {
          "output_type": "stream",
          "name": "stdout",
          "text": [
            "75\n"
          ]
        }
      ]
    },
    {
      "cell_type": "code",
      "source": [
        "job_titles = ['Data Scientist', 'Data Analyst', 'Machine Learning Engineer', 'Software Engineer']\n",
        "index = 0\n",
        "while index < len(job_titles):\n",
        "  if 'Engineer' in job_titles[index]:\n",
        "    print(job_titles[index])\n",
        "    break\n",
        "  index += 1"
      ],
      "metadata": {
        "colab": {
          "base_uri": "https://localhost:8080/"
        },
        "id": "MMAtDV2F6FJa",
        "outputId": "2e06c28f-c904-4db7-c893-edf75eaafc25"
      },
      "execution_count": null,
      "outputs": [
        {
          "output_type": "stream",
          "name": "stdout",
          "text": [
            "Machine Learning Engineer\n"
          ]
        }
      ]
    },
    {
      "cell_type": "code",
      "source": [
        "job_titles = ['Data Scientist', 'Data Analyst', 'Machine Learning Engineer', 'Software Engineer']\n",
        "index = 0\n",
        "while index < len(job_titles):\n",
        "  if 'Engineer' in job_titles[index]:\n",
        "    print(job_titles[index])\n",
        "\n",
        "  index += 1"
      ],
      "metadata": {
        "colab": {
          "base_uri": "https://localhost:8080/"
        },
        "id": "cKv-mPFJ6lnI",
        "outputId": "8ac424c7-2590-445d-f747-31e679958450"
      },
      "execution_count": null,
      "outputs": [
        {
          "output_type": "stream",
          "name": "stdout",
          "text": [
            "Machine Learning Engineer\n",
            "Software Engineer\n"
          ]
        }
      ]
    },
    {
      "cell_type": "code",
      "source": [
        "class JobPosting:\n",
        "  def __init__(self, title, company, location):\n",
        "    self.title = title\n",
        "    self.company = company\n",
        "    self.location = location\n",
        "\n",
        "\n",
        "job = JobPosting('Data Scientist', 'Tech Innovations', 'New York')\n",
        "\n",
        "print(job.title)\n",
        "print(job.company)\n",
        "print(job.location)\n"
      ],
      "metadata": {
        "id": "VAIadiVJ_E8y",
        "colab": {
          "base_uri": "https://localhost:8080/"
        },
        "outputId": "173935d2-5d55-47e6-e6ee-951742aba45f"
      },
      "execution_count": null,
      "outputs": [
        {
          "output_type": "stream",
          "name": "stdout",
          "text": [
            "Data Scientist\n",
            "Tech Innovations\n",
            "New York\n"
          ]
        }
      ]
    },
    {
      "cell_type": "code",
      "source": [
        "class JobPosting:\n",
        "    def __init__(self, title, company, location, salary):\n",
        "        self.title = title\n",
        "        self.company = company\n",
        "        self.location = location\n",
        "        self.salary = salary\n",
        "\n",
        "    def to_dict(self):\n",
        "        return {\n",
        "            'title': self.title,\n",
        "            'company': self.company,\n",
        "            'location': self.location,\n",
        "            'salary': self.salary\n",
        "        }\n",
        "\n",
        "job = JobPosting('Data Scientist', 'Tech Innovations', 'New York', 120000)\n",
        "\n",
        "print(job.to_dict())"
      ],
      "metadata": {
        "colab": {
          "base_uri": "https://localhost:8080/"
        },
        "id": "theM4tXG0RE6",
        "outputId": "7f22fb1c-7717-4643-dec9-433a609a9b32"
      },
      "execution_count": null,
      "outputs": [
        {
          "output_type": "stream",
          "name": "stdout",
          "text": [
            "{'title': 'Data Scientist', 'company': 'Tech Innovations', 'location': 'New York', 'salary': 120000}\n"
          ]
        }
      ]
    },
    {
      "cell_type": "code",
      "source": [
        "class JobPosting:\n",
        "    def __init__(self, title, company, location, salary):\n",
        "        self.title = title\n",
        "        self.company = company\n",
        "        self.location = location\n",
        "        self.salary = salary\n",
        "\n",
        "    def compare_salary(self, other_job):\n",
        "       if self.salary > other_job.salary:\n",
        "         return self.title\n",
        "       else:\n",
        "         return other_job.title\n",
        "\n",
        "job1 = JobPosting('Data Scientist', 'Tech Innovations', 'New York', 120000)\n",
        "job2 = JobPosting('Data Analyst', 'Data Corp', 'San Francisco', 80000)\n",
        "\n",
        "print(job1.compare_salary(job2))"
      ],
      "metadata": {
        "colab": {
          "base_uri": "https://localhost:8080/"
        },
        "id": "c9FB8fnz2tF-",
        "outputId": "d8c906f5-4485-40b4-f528-afcfe64ade59"
      },
      "execution_count": null,
      "outputs": [
        {
          "output_type": "stream",
          "name": "stdout",
          "text": [
            "Data Scientist\n"
          ]
        }
      ]
    },
    {
      "cell_type": "markdown",
      "source": [
        "###Numpy"
      ],
      "metadata": {
        "id": "t7nS5nJw_R0z"
      }
    },
    {
      "cell_type": "code",
      "source": [
        "import numpy as np\n",
        "\n",
        "applications_list = [10, 15, 7, 20, 25, 30, 5]\n",
        "applications = np.array(applications_list)\n",
        "print(applications)\n"
      ],
      "metadata": {
        "colab": {
          "base_uri": "https://localhost:8080/"
        },
        "id": "JVvW8Svv_ZC2",
        "outputId": "16fb66ed-0666-4230-b38c-eb8004137915"
      },
      "execution_count": null,
      "outputs": [
        {
          "output_type": "stream",
          "name": "stdout",
          "text": [
            "[10 15  7 20 25 30  5]\n"
          ]
        }
      ]
    },
    {
      "cell_type": "code",
      "source": [
        "import numpy as np\n",
        "postings_list = [10, 15, 7, 20, 25, 30, 5]\n",
        "postings = np.array(postings_list)\n",
        "first_three_postings = postings[:3]\n",
        "print(first_three_postings)\n"
      ],
      "metadata": {
        "colab": {
          "base_uri": "https://localhost:8080/"
        },
        "id": "Muz1LG4PBIU9",
        "outputId": "03296a93-c9e5-44fb-a055-5c1762416447"
      },
      "execution_count": null,
      "outputs": [
        {
          "output_type": "stream",
          "name": "stdout",
          "text": [
            "[10 15  7]\n"
          ]
        }
      ]
    },
    {
      "cell_type": "code",
      "source": [
        "import numpy as np\n",
        "salaries_list = [70000, 85000, 60000, 95000, 80000]\n",
        "salaries = np.array(salaries_list)\n",
        "average_salary = np.mean(salaries)\n",
        "print(average_salary)"
      ],
      "metadata": {
        "colab": {
          "base_uri": "https://localhost:8080/"
        },
        "id": "oPFcGtIxBJJJ",
        "outputId": "66d0c81c-ef04-4275-f5fd-c5e393345ea3"
      },
      "execution_count": null,
      "outputs": [
        {
          "output_type": "stream",
          "name": "stdout",
          "text": [
            "78000.0\n"
          ]
        }
      ]
    },
    {
      "cell_type": "code",
      "source": [
        "import numpy as np\n",
        "salaries_list = [70000, 85000, 60000, 95000, 80000]\n",
        "salaries = np.array(salaries_list)\n",
        "highest_salary = np.max(salaries)\n",
        "lowest_salary = np.min(salaries)\n",
        "print(highest_salary, lowest_salary)"
      ],
      "metadata": {
        "colab": {
          "base_uri": "https://localhost:8080/"
        },
        "id": "BtdKutm3BjHJ",
        "outputId": "f04eddd3-ca90-435d-eb10-3d8c4e63867d"
      },
      "execution_count": null,
      "outputs": [
        {
          "output_type": "stream",
          "name": "stdout",
          "text": [
            "95000 60000\n"
          ]
        }
      ]
    },
    {
      "cell_type": "code",
      "source": [],
      "metadata": {
        "id": "1-0ZU87NB4Bk"
      },
      "execution_count": null,
      "outputs": []
    }
  ]
}