{
 "cells": [
  {
   "cell_type": "code",
   "execution_count": 2,
   "metadata": {},
   "outputs": [],
   "source": [
    "# Importing Libraries\n",
    "import pandas as pd\n",
    "from datasets import load_dataset\n",
    "import matplotlib.pyplot as plt \n",
    "\n",
    "# Loading Data\n",
    "dataset = load_dataset('lukebarousse/data_jobs')\n",
    "df = dataset['train'].to_pandas()\n",
    "\n",
    "# Data Cleanup\n",
    "df['job_posted_date'] = pd.to_datetime(df['job_posted_date'])"
   ]
  },
  {
   "cell_type": "code",
   "execution_count": null,
   "metadata": {},
   "outputs": [],
   "source": [
    "df['job_posted_month'] = df['job_posted_date'].dt.strftime('%b')\n",
    "months = df['job_posted_month'].unique()\n",
    "dict_months = {month: df[df['job_posted_month'] == month] for month in months}\n",
    "df_q1 = pd.concat([dict_months['Jan'], dict_months['Feb'], dict_months['Mar']], ignore_index=True)"
   ]
  },
  {
   "cell_type": "markdown",
   "metadata": {},
   "source": [
    "## .to_clipboard()"
   ]
  },
  {
   "cell_type": "code",
   "execution_count": 6,
   "metadata": {},
   "outputs": [],
   "source": [
    "df_q1.head().to_clipboard(sep=\",\")"
   ]
  },
  {
   "cell_type": "markdown",
   "metadata": {},
   "source": [
    "result after clicking ctrl v:\n",
    "\n",
    ",job_title_short,job_title,job_location,job_via,job_schedule_type,job_work_from_home,search_location,job_posted_date,job_no_degree_mention,job_health_insurance,job_country,salary_rate,salary_year_avg,salary_hour_avg,company_name,job_skills,job_type_skills,job_posted_month\n",
    "0,Data Analyst,Data Analyst,\"Guadalajara, Jalisco, Mexico\",via BeBee México,Full-time,False,Mexico,2023-01-14 13:18:07,False,False,Mexico,,,,Hewlett Packard Enterprise,\"['r', 'python', 'sql', 'nosql', 'power bi', 'tableau']\",\"{'analyst_tools': ['power bi', 'tableau'], 'programming': ['r', 'python', 'sql', 'nosql']}\",Jan\n",
    "1,Data Scientist,Data Scientist,\"Zaventem, Belgium\",via BeBee Belgique,Full-time,False,Belgium,2023-01-31 13:53:38,False,False,Belgium,,,,Devoteam,\"['r', 'python', 'sql', 'pandas', 'numpy', 'scikit-learn', 'matplotlib', 'hadoop', 'spark']\",\"{'libraries': ['pandas', 'numpy', 'scikit-learn', 'matplotlib', 'hadoop', 'spark'], 'programming': ['r', 'python', 'sql']}\",Jan\n",
    "2,Data Engineer,Data Engineer,\"Fort Worth, TX\",via LinkedIn,Full-time,False,\"Texas, United States\",2023-01-25 13:24:01,False,False,United States,,,,Programmers.io,\"['sql', 'python']\",\"{'programming': ['sql', 'python']}\",Jan\n",
    "3,Data Engineer,Data Engineer,\"San Mateo, CA\",via LinkedIn,Full-time,False,\"California, United States\",2023-01-28 13:07:30,False,True,United States,,,,Verkada,\"['sql', 'python', 'aws', 'looker']\",\"{'analyst_tools': ['looker'], 'cloud': ['aws'], 'programming': ['sql', 'python']}\",Jan\n",
    "4,Data Scientist,Data Scientist,\"São Paulo, State of São Paulo, Brazil\",via BeBee,Full-time,False,Brazil,2023-01-03 23:02:27,False,False,Brazil,,,,Mars,\"['python', 'sql', 'azure']\",\"{'cloud': ['azure'], 'programming': ['python', 'sql']}\",Jan\n"
   ]
  },
  {
   "cell_type": "markdown",
   "metadata": {},
   "source": [
    "## .to_csv()"
   ]
  },
  {
   "cell_type": "code",
   "execution_count": null,
   "metadata": {},
   "outputs": [],
   "source": [
    "df_q1.head().to_csv('quater_1.csv')\n",
    "#result shown under folder 2_Advanced"
   ]
  },
  {
   "cell_type": "code",
   "execution_count": 9,
   "metadata": {},
   "outputs": [
    {
     "data": {
      "text/html": [
       "<div>\n",
       "<style scoped>\n",
       "    .dataframe tbody tr th:only-of-type {\n",
       "        vertical-align: middle;\n",
       "    }\n",
       "\n",
       "    .dataframe tbody tr th {\n",
       "        vertical-align: top;\n",
       "    }\n",
       "\n",
       "    .dataframe thead th {\n",
       "        text-align: right;\n",
       "    }\n",
       "</style>\n",
       "<table border=\"1\" class=\"dataframe\">\n",
       "  <thead>\n",
       "    <tr style=\"text-align: right;\">\n",
       "      <th></th>\n",
       "      <th>Unnamed: 0</th>\n",
       "      <th>job_title_short</th>\n",
       "      <th>job_title</th>\n",
       "      <th>job_location</th>\n",
       "      <th>job_via</th>\n",
       "      <th>job_schedule_type</th>\n",
       "      <th>job_work_from_home</th>\n",
       "      <th>search_location</th>\n",
       "      <th>job_posted_date</th>\n",
       "      <th>job_no_degree_mention</th>\n",
       "      <th>job_health_insurance</th>\n",
       "      <th>job_country</th>\n",
       "      <th>salary_rate</th>\n",
       "      <th>salary_year_avg</th>\n",
       "      <th>salary_hour_avg</th>\n",
       "      <th>company_name</th>\n",
       "      <th>job_skills</th>\n",
       "      <th>job_type_skills</th>\n",
       "      <th>job_posted_month</th>\n",
       "    </tr>\n",
       "  </thead>\n",
       "  <tbody>\n",
       "    <tr>\n",
       "      <th>0</th>\n",
       "      <td>0</td>\n",
       "      <td>Data Analyst</td>\n",
       "      <td>Data Analyst</td>\n",
       "      <td>Guadalajara, Jalisco, Mexico</td>\n",
       "      <td>via BeBee México</td>\n",
       "      <td>Full-time</td>\n",
       "      <td>False</td>\n",
       "      <td>Mexico</td>\n",
       "      <td>2023-01-14 13:18:07</td>\n",
       "      <td>False</td>\n",
       "      <td>False</td>\n",
       "      <td>Mexico</td>\n",
       "      <td>NaN</td>\n",
       "      <td>NaN</td>\n",
       "      <td>NaN</td>\n",
       "      <td>Hewlett Packard Enterprise</td>\n",
       "      <td>['r', 'python', 'sql', 'nosql', 'power bi', 't...</td>\n",
       "      <td>{'analyst_tools': ['power bi', 'tableau'], 'pr...</td>\n",
       "      <td>Jan</td>\n",
       "    </tr>\n",
       "    <tr>\n",
       "      <th>1</th>\n",
       "      <td>1</td>\n",
       "      <td>Data Scientist</td>\n",
       "      <td>Data Scientist</td>\n",
       "      <td>Zaventem, Belgium</td>\n",
       "      <td>via BeBee Belgique</td>\n",
       "      <td>Full-time</td>\n",
       "      <td>False</td>\n",
       "      <td>Belgium</td>\n",
       "      <td>2023-01-31 13:53:38</td>\n",
       "      <td>False</td>\n",
       "      <td>False</td>\n",
       "      <td>Belgium</td>\n",
       "      <td>NaN</td>\n",
       "      <td>NaN</td>\n",
       "      <td>NaN</td>\n",
       "      <td>Devoteam</td>\n",
       "      <td>['r', 'python', 'sql', 'pandas', 'numpy', 'sci...</td>\n",
       "      <td>{'libraries': ['pandas', 'numpy', 'scikit-lear...</td>\n",
       "      <td>Jan</td>\n",
       "    </tr>\n",
       "    <tr>\n",
       "      <th>2</th>\n",
       "      <td>2</td>\n",
       "      <td>Data Engineer</td>\n",
       "      <td>Data Engineer</td>\n",
       "      <td>Fort Worth, TX</td>\n",
       "      <td>via LinkedIn</td>\n",
       "      <td>Full-time</td>\n",
       "      <td>False</td>\n",
       "      <td>Texas, United States</td>\n",
       "      <td>2023-01-25 13:24:01</td>\n",
       "      <td>False</td>\n",
       "      <td>False</td>\n",
       "      <td>United States</td>\n",
       "      <td>NaN</td>\n",
       "      <td>NaN</td>\n",
       "      <td>NaN</td>\n",
       "      <td>Programmers.io</td>\n",
       "      <td>['sql', 'python']</td>\n",
       "      <td>{'programming': ['sql', 'python']}</td>\n",
       "      <td>Jan</td>\n",
       "    </tr>\n",
       "    <tr>\n",
       "      <th>3</th>\n",
       "      <td>3</td>\n",
       "      <td>Data Engineer</td>\n",
       "      <td>Data Engineer</td>\n",
       "      <td>San Mateo, CA</td>\n",
       "      <td>via LinkedIn</td>\n",
       "      <td>Full-time</td>\n",
       "      <td>False</td>\n",
       "      <td>California, United States</td>\n",
       "      <td>2023-01-28 13:07:30</td>\n",
       "      <td>False</td>\n",
       "      <td>True</td>\n",
       "      <td>United States</td>\n",
       "      <td>NaN</td>\n",
       "      <td>NaN</td>\n",
       "      <td>NaN</td>\n",
       "      <td>Verkada</td>\n",
       "      <td>['sql', 'python', 'aws', 'looker']</td>\n",
       "      <td>{'analyst_tools': ['looker'], 'cloud': ['aws']...</td>\n",
       "      <td>Jan</td>\n",
       "    </tr>\n",
       "    <tr>\n",
       "      <th>4</th>\n",
       "      <td>4</td>\n",
       "      <td>Data Scientist</td>\n",
       "      <td>Data Scientist</td>\n",
       "      <td>São Paulo, State of São Paulo, Brazil</td>\n",
       "      <td>via BeBee</td>\n",
       "      <td>Full-time</td>\n",
       "      <td>False</td>\n",
       "      <td>Brazil</td>\n",
       "      <td>2023-01-03 23:02:27</td>\n",
       "      <td>False</td>\n",
       "      <td>False</td>\n",
       "      <td>Brazil</td>\n",
       "      <td>NaN</td>\n",
       "      <td>NaN</td>\n",
       "      <td>NaN</td>\n",
       "      <td>Mars</td>\n",
       "      <td>['python', 'sql', 'azure']</td>\n",
       "      <td>{'cloud': ['azure'], 'programming': ['python',...</td>\n",
       "      <td>Jan</td>\n",
       "    </tr>\n",
       "  </tbody>\n",
       "</table>\n",
       "</div>"
      ],
      "text/plain": [
       "   Unnamed: 0 job_title_short       job_title  \\\n",
       "0           0    Data Analyst    Data Analyst   \n",
       "1           1  Data Scientist  Data Scientist   \n",
       "2           2   Data Engineer   Data Engineer   \n",
       "3           3   Data Engineer   Data Engineer   \n",
       "4           4  Data Scientist  Data Scientist   \n",
       "\n",
       "                            job_location             job_via  \\\n",
       "0           Guadalajara, Jalisco, Mexico    via BeBee México   \n",
       "1                      Zaventem, Belgium  via BeBee Belgique   \n",
       "2                         Fort Worth, TX        via LinkedIn   \n",
       "3                          San Mateo, CA        via LinkedIn   \n",
       "4  São Paulo, State of São Paulo, Brazil           via BeBee   \n",
       "\n",
       "  job_schedule_type  job_work_from_home            search_location  \\\n",
       "0         Full-time               False                     Mexico   \n",
       "1         Full-time               False                    Belgium   \n",
       "2         Full-time               False       Texas, United States   \n",
       "3         Full-time               False  California, United States   \n",
       "4         Full-time               False                     Brazil   \n",
       "\n",
       "       job_posted_date  job_no_degree_mention  job_health_insurance  \\\n",
       "0  2023-01-14 13:18:07                  False                 False   \n",
       "1  2023-01-31 13:53:38                  False                 False   \n",
       "2  2023-01-25 13:24:01                  False                 False   \n",
       "3  2023-01-28 13:07:30                  False                  True   \n",
       "4  2023-01-03 23:02:27                  False                 False   \n",
       "\n",
       "     job_country  salary_rate  salary_year_avg  salary_hour_avg  \\\n",
       "0         Mexico          NaN              NaN              NaN   \n",
       "1        Belgium          NaN              NaN              NaN   \n",
       "2  United States          NaN              NaN              NaN   \n",
       "3  United States          NaN              NaN              NaN   \n",
       "4         Brazil          NaN              NaN              NaN   \n",
       "\n",
       "                 company_name  \\\n",
       "0  Hewlett Packard Enterprise   \n",
       "1                    Devoteam   \n",
       "2              Programmers.io   \n",
       "3                     Verkada   \n",
       "4                        Mars   \n",
       "\n",
       "                                          job_skills  \\\n",
       "0  ['r', 'python', 'sql', 'nosql', 'power bi', 't...   \n",
       "1  ['r', 'python', 'sql', 'pandas', 'numpy', 'sci...   \n",
       "2                                  ['sql', 'python']   \n",
       "3                 ['sql', 'python', 'aws', 'looker']   \n",
       "4                         ['python', 'sql', 'azure']   \n",
       "\n",
       "                                     job_type_skills job_posted_month  \n",
       "0  {'analyst_tools': ['power bi', 'tableau'], 'pr...              Jan  \n",
       "1  {'libraries': ['pandas', 'numpy', 'scikit-lear...              Jan  \n",
       "2                 {'programming': ['sql', 'python']}              Jan  \n",
       "3  {'analyst_tools': ['looker'], 'cloud': ['aws']...              Jan  \n",
       "4  {'cloud': ['azure'], 'programming': ['python',...              Jan  "
      ]
     },
     "execution_count": 9,
     "metadata": {},
     "output_type": "execute_result"
    }
   ],
   "source": [
    "#if you wanted to read\n",
    "pd.read_csv('quater_1.csv')"
   ]
  },
  {
   "cell_type": "code",
   "execution_count": 10,
   "metadata": {},
   "outputs": [
    {
     "data": {
      "text/html": [
       "<div>\n",
       "<style scoped>\n",
       "    .dataframe tbody tr th:only-of-type {\n",
       "        vertical-align: middle;\n",
       "    }\n",
       "\n",
       "    .dataframe tbody tr th {\n",
       "        vertical-align: top;\n",
       "    }\n",
       "\n",
       "    .dataframe thead th {\n",
       "        text-align: right;\n",
       "    }\n",
       "</style>\n",
       "<table border=\"1\" class=\"dataframe\">\n",
       "  <thead>\n",
       "    <tr style=\"text-align: right;\">\n",
       "      <th></th>\n",
       "      <th>job_title_short</th>\n",
       "      <th>job_title</th>\n",
       "      <th>job_location</th>\n",
       "      <th>job_via</th>\n",
       "      <th>job_schedule_type</th>\n",
       "      <th>job_work_from_home</th>\n",
       "      <th>search_location</th>\n",
       "      <th>job_posted_date</th>\n",
       "      <th>job_no_degree_mention</th>\n",
       "      <th>job_health_insurance</th>\n",
       "      <th>job_country</th>\n",
       "      <th>salary_rate</th>\n",
       "      <th>salary_year_avg</th>\n",
       "      <th>salary_hour_avg</th>\n",
       "      <th>company_name</th>\n",
       "      <th>job_skills</th>\n",
       "      <th>job_type_skills</th>\n",
       "      <th>job_posted_month</th>\n",
       "    </tr>\n",
       "  </thead>\n",
       "  <tbody>\n",
       "    <tr>\n",
       "      <th>0</th>\n",
       "      <td>Data Analyst</td>\n",
       "      <td>Data Analyst</td>\n",
       "      <td>Guadalajara, Jalisco, Mexico</td>\n",
       "      <td>via BeBee México</td>\n",
       "      <td>Full-time</td>\n",
       "      <td>False</td>\n",
       "      <td>Mexico</td>\n",
       "      <td>2023-01-14 13:18:07</td>\n",
       "      <td>False</td>\n",
       "      <td>False</td>\n",
       "      <td>Mexico</td>\n",
       "      <td>NaN</td>\n",
       "      <td>NaN</td>\n",
       "      <td>NaN</td>\n",
       "      <td>Hewlett Packard Enterprise</td>\n",
       "      <td>['r', 'python', 'sql', 'nosql', 'power bi', 't...</td>\n",
       "      <td>{'analyst_tools': ['power bi', 'tableau'], 'pr...</td>\n",
       "      <td>Jan</td>\n",
       "    </tr>\n",
       "    <tr>\n",
       "      <th>1</th>\n",
       "      <td>Data Scientist</td>\n",
       "      <td>Data Scientist</td>\n",
       "      <td>Zaventem, Belgium</td>\n",
       "      <td>via BeBee Belgique</td>\n",
       "      <td>Full-time</td>\n",
       "      <td>False</td>\n",
       "      <td>Belgium</td>\n",
       "      <td>2023-01-31 13:53:38</td>\n",
       "      <td>False</td>\n",
       "      <td>False</td>\n",
       "      <td>Belgium</td>\n",
       "      <td>NaN</td>\n",
       "      <td>NaN</td>\n",
       "      <td>NaN</td>\n",
       "      <td>Devoteam</td>\n",
       "      <td>['r', 'python', 'sql', 'pandas', 'numpy', 'sci...</td>\n",
       "      <td>{'libraries': ['pandas', 'numpy', 'scikit-lear...</td>\n",
       "      <td>Jan</td>\n",
       "    </tr>\n",
       "    <tr>\n",
       "      <th>2</th>\n",
       "      <td>Data Engineer</td>\n",
       "      <td>Data Engineer</td>\n",
       "      <td>Fort Worth, TX</td>\n",
       "      <td>via LinkedIn</td>\n",
       "      <td>Full-time</td>\n",
       "      <td>False</td>\n",
       "      <td>Texas, United States</td>\n",
       "      <td>2023-01-25 13:24:01</td>\n",
       "      <td>False</td>\n",
       "      <td>False</td>\n",
       "      <td>United States</td>\n",
       "      <td>NaN</td>\n",
       "      <td>NaN</td>\n",
       "      <td>NaN</td>\n",
       "      <td>Programmers.io</td>\n",
       "      <td>['sql', 'python']</td>\n",
       "      <td>{'programming': ['sql', 'python']}</td>\n",
       "      <td>Jan</td>\n",
       "    </tr>\n",
       "    <tr>\n",
       "      <th>3</th>\n",
       "      <td>Data Engineer</td>\n",
       "      <td>Data Engineer</td>\n",
       "      <td>San Mateo, CA</td>\n",
       "      <td>via LinkedIn</td>\n",
       "      <td>Full-time</td>\n",
       "      <td>False</td>\n",
       "      <td>California, United States</td>\n",
       "      <td>2023-01-28 13:07:30</td>\n",
       "      <td>False</td>\n",
       "      <td>True</td>\n",
       "      <td>United States</td>\n",
       "      <td>NaN</td>\n",
       "      <td>NaN</td>\n",
       "      <td>NaN</td>\n",
       "      <td>Verkada</td>\n",
       "      <td>['sql', 'python', 'aws', 'looker']</td>\n",
       "      <td>{'analyst_tools': ['looker'], 'cloud': ['aws']...</td>\n",
       "      <td>Jan</td>\n",
       "    </tr>\n",
       "    <tr>\n",
       "      <th>4</th>\n",
       "      <td>Data Scientist</td>\n",
       "      <td>Data Scientist</td>\n",
       "      <td>São Paulo, State of São Paulo, Brazil</td>\n",
       "      <td>via BeBee</td>\n",
       "      <td>Full-time</td>\n",
       "      <td>False</td>\n",
       "      <td>Brazil</td>\n",
       "      <td>2023-01-03 23:02:27</td>\n",
       "      <td>False</td>\n",
       "      <td>False</td>\n",
       "      <td>Brazil</td>\n",
       "      <td>NaN</td>\n",
       "      <td>NaN</td>\n",
       "      <td>NaN</td>\n",
       "      <td>Mars</td>\n",
       "      <td>['python', 'sql', 'azure']</td>\n",
       "      <td>{'cloud': ['azure'], 'programming': ['python',...</td>\n",
       "      <td>Jan</td>\n",
       "    </tr>\n",
       "  </tbody>\n",
       "</table>\n",
       "</div>"
      ],
      "text/plain": [
       "  job_title_short       job_title                           job_location  \\\n",
       "0    Data Analyst    Data Analyst           Guadalajara, Jalisco, Mexico   \n",
       "1  Data Scientist  Data Scientist                      Zaventem, Belgium   \n",
       "2   Data Engineer   Data Engineer                         Fort Worth, TX   \n",
       "3   Data Engineer   Data Engineer                          San Mateo, CA   \n",
       "4  Data Scientist  Data Scientist  São Paulo, State of São Paulo, Brazil   \n",
       "\n",
       "              job_via job_schedule_type  job_work_from_home  \\\n",
       "0    via BeBee México         Full-time               False   \n",
       "1  via BeBee Belgique         Full-time               False   \n",
       "2        via LinkedIn         Full-time               False   \n",
       "3        via LinkedIn         Full-time               False   \n",
       "4           via BeBee         Full-time               False   \n",
       "\n",
       "             search_location      job_posted_date  job_no_degree_mention  \\\n",
       "0                     Mexico  2023-01-14 13:18:07                  False   \n",
       "1                    Belgium  2023-01-31 13:53:38                  False   \n",
       "2       Texas, United States  2023-01-25 13:24:01                  False   \n",
       "3  California, United States  2023-01-28 13:07:30                  False   \n",
       "4                     Brazil  2023-01-03 23:02:27                  False   \n",
       "\n",
       "   job_health_insurance    job_country  salary_rate  salary_year_avg  \\\n",
       "0                 False         Mexico          NaN              NaN   \n",
       "1                 False        Belgium          NaN              NaN   \n",
       "2                 False  United States          NaN              NaN   \n",
       "3                  True  United States          NaN              NaN   \n",
       "4                 False         Brazil          NaN              NaN   \n",
       "\n",
       "   salary_hour_avg                company_name  \\\n",
       "0              NaN  Hewlett Packard Enterprise   \n",
       "1              NaN                    Devoteam   \n",
       "2              NaN              Programmers.io   \n",
       "3              NaN                     Verkada   \n",
       "4              NaN                        Mars   \n",
       "\n",
       "                                          job_skills  \\\n",
       "0  ['r', 'python', 'sql', 'nosql', 'power bi', 't...   \n",
       "1  ['r', 'python', 'sql', 'pandas', 'numpy', 'sci...   \n",
       "2                                  ['sql', 'python']   \n",
       "3                 ['sql', 'python', 'aws', 'looker']   \n",
       "4                         ['python', 'sql', 'azure']   \n",
       "\n",
       "                                     job_type_skills job_posted_month  \n",
       "0  {'analyst_tools': ['power bi', 'tableau'], 'pr...              Jan  \n",
       "1  {'libraries': ['pandas', 'numpy', 'scikit-lear...              Jan  \n",
       "2                 {'programming': ['sql', 'python']}              Jan  \n",
       "3  {'analyst_tools': ['looker'], 'cloud': ['aws']...              Jan  \n",
       "4  {'cloud': ['azure'], 'programming': ['python',...              Jan  "
      ]
     },
     "execution_count": 10,
     "metadata": {},
     "output_type": "execute_result"
    }
   ],
   "source": [
    "#To get ride of the unnamed index\n",
    "pd.read_csv('quater_1.csv', index_col=0)"
   ]
  },
  {
   "cell_type": "markdown",
   "metadata": {},
   "source": [
    "## .to_excel()"
   ]
  },
  {
   "cell_type": "code",
   "execution_count": null,
   "metadata": {},
   "outputs": [],
   "source": [
    "df_q1.head().to_excel('quater_1.xlsx')\n",
    "#result shown under folder 2_Advanced"
   ]
  },
  {
   "cell_type": "markdown",
   "metadata": {},
   "source": [
    "## .to_sql()"
   ]
  },
  {
   "cell_type": "code",
   "execution_count": null,
   "metadata": {},
   "outputs": [],
   "source": [
    "# from sqlalchemy import create_engine\n",
    "# engine = create_engine('sqlite:///jobs.db')\n",
    "\n",
    "# df.to_sql('job_table', con=engine, if_exists='append', index=False)\n",
    "\n",
    "#can go to ChatGPT for help with this"
   ]
  },
  {
   "cell_type": "markdown",
   "metadata": {},
   "source": [
    "## .to_parquet()"
   ]
  },
  {
   "cell_type": "code",
   "execution_count": null,
   "metadata": {},
   "outputs": [],
   "source": [
    "# df.to_parquet('jobs_data.parquet')"
   ]
  },
  {
   "cell_type": "markdown",
   "metadata": {},
   "source": [
    "## .to_pickle()"
   ]
  },
  {
   "cell_type": "code",
   "execution_count": null,
   "metadata": {},
   "outputs": [],
   "source": [
    "# df.to_pickle('job_data.pkl')"
   ]
  },
  {
   "cell_type": "markdown",
   "metadata": {},
   "source": [
    "___"
   ]
  },
  {
   "cell_type": "markdown",
   "metadata": {},
   "source": [
    "## Course Practice Problems"
   ]
  },
  {
   "cell_type": "markdown",
   "metadata": {},
   "source": [
    "Export the DataFrame to a CSV file named data_jobs_export.csv without including the index. Inspect the contents of the CSV exported. (2.9.1)\n",
    "\n",
    "    se the to_csv() function with the index parameter set to False."
   ]
  },
  {
   "cell_type": "code",
   "execution_count": null,
   "metadata": {},
   "outputs": [],
   "source": [
    "df.to_csv('data_jobs_export.csv', index=False)\n",
    "# index=False. This tells pandas not to write the DataFrame's index as a column in the CSV file."
   ]
  },
  {
   "cell_type": "markdown",
   "metadata": {},
   "source": [
    "- Filter the DataFrame to include only job postings with 'Data Scientist' in the job_title_short column.\n",
    "- Export the filtered DataFrame to a CSV file named data_scientist_jobs.csv without including the index.\n",
    "- Inspect that the CSV has been exported with the correct filtered data.\n",
    "\n",
    "(2.9.2)\n",
    "\n",
    "    Use the to_csv() function with the index parameter set to False after filtering the DataFrame using boolean indexing."
   ]
  },
  {
   "cell_type": "code",
   "execution_count": 17,
   "metadata": {},
   "outputs": [],
   "source": [
    "ds_jobs_df = df[df['job_title_short']=='Data Scientists']"
   ]
  },
  {
   "cell_type": "code",
   "execution_count": 18,
   "metadata": {},
   "outputs": [],
   "source": [
    "ds_jobs_df.to_csv('data_scientist_jobs.csv', index=False)"
   ]
  },
  {
   "cell_type": "markdown",
   "metadata": {},
   "source": [
    "- Filter the DataFrame to include only job postings with 'New York, NY' in the job_location column.\n",
    "- Export the filtered DataFrame to an Excel file named new_york_jobs.xlsx without including the index.\n",
    "- Display the first 5 rows of the filtered DataFrame to confirm the export.\n",
    "\n",
    "(2.9.3)\n",
    "\n",
    "    Use the to_excel() function with the index parameter set to False. You will need to conda install openpyxl library for this."
   ]
  },
  {
   "cell_type": "code",
   "execution_count": 19,
   "metadata": {},
   "outputs": [],
   "source": [
    "NY_jobs = df[df['job_location']=='New York, NY']"
   ]
  },
  {
   "cell_type": "code",
   "execution_count": null,
   "metadata": {},
   "outputs": [
    {
     "ename": "",
     "evalue": "",
     "output_type": "error",
     "traceback": [
      "\u001b[1;31mThe Kernel crashed while executing code in the current cell or a previous cell. \n",
      "\u001b[1;31mPlease review the code in the cell(s) to identify a possible cause of the failure. \n",
      "\u001b[1;31mClick <a href='https://aka.ms/vscodeJupyterKernelCrash'>here</a> for more info. \n",
      "\u001b[1;31mView Jupyter <a href='command:jupyter.viewOutput'>log</a> for further details."
     ]
    }
   ],
   "source": [
    "NY_jobs.to_excel('new_york_jobs.xlsx', index=False)"
   ]
  },
  {
   "cell_type": "code",
   "execution_count": null,
   "metadata": {},
   "outputs": [],
   "source": []
  }
 ],
 "metadata": {
  "kernelspec": {
   "display_name": "python_course",
   "language": "python",
   "name": "python3"
  },
  "language_info": {
   "codemirror_mode": {
    "name": "ipython",
    "version": 3
   },
   "file_extension": ".py",
   "mimetype": "text/x-python",
   "name": "python",
   "nbconvert_exporter": "python",
   "pygments_lexer": "ipython3",
   "version": "3.11.11"
  }
 },
 "nbformat": 4,
 "nbformat_minor": 2
}
